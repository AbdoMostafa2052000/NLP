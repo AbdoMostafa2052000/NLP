{
  "cells": [
    {
      "cell_type": "markdown",
      "metadata": {
        "id": "ySsIPBRiorxK"
      },
      "source": [
        ":**Dataset**\n",
        "labeled datasset collected from twitter (Hate Speech.tsv)\n",
        "\n",
        "**Objective**\n",
        "classify tweets containing hate speech from other tweets. <br>\n",
        "0 -> no hate speech <br>\n",
        "1 -> contains hate speech <br>\n",
        "\n",
        "**Total Estimated Time = 90-120 Mins**\n",
        "\n",
        "**Evaluation metric**\n",
        "macro f1 score"
      ]
    },
    {
      "cell_type": "markdown",
      "metadata": {
        "id": "v-6lrKz6orxT"
      },
      "source": [
        "### Import used libraries"
      ]
    },
    {
      "cell_type": "code",
      "execution_count": 1,
      "metadata": {
        "id": "37YpFqmEhKY1"
      },
      "outputs": [],
      "source": [
        "import re\n",
        "from nltk.tokenize import word_tokenize\n",
        "from nltk.corpus import stopwords\n",
        "from nltk.stem import WordNetLemmatizer"
      ]
    },
    {
      "cell_type": "code",
      "execution_count": 2,
      "metadata": {
        "id": "eXUPo3g4orxV"
      },
      "outputs": [],
      "source": [
        "import pandas as pd\n",
        "pd.set_option('display.max_rows', 500)\n",
        "pd.set_option('display.max_colwidth', 500)"
      ]
    },
    {
      "cell_type": "markdown",
      "metadata": {
        "id": "fG8MkuvjorxX"
      },
      "source": [
        "### Load Dataset"
      ]
    },
    {
      "cell_type": "markdown",
      "metadata": {
        "id": "ER6Tv3rIhKY2"
      },
      "source": [
        "###### Note: search how to load the data from tsv file"
      ]
    },
    {
      "cell_type": "code",
      "execution_count": null,
      "metadata": {
        "id": "BYeqhp66orxY",
        "colab": {
          "base_uri": "https://localhost:8080/",
          "height": 363
        },
        "outputId": "7fc3802a-bf3c-4db3-85b0-bb991b001105"
      },
      "outputs": [
        {
          "output_type": "execute_result",
          "data": {
            "text/plain": [
              "   id  label  \\\n",
              "0   1      0   \n",
              "1   2      0   \n",
              "2   3      0   \n",
              "3   4      0   \n",
              "4   5      0   \n",
              "5   6      0   \n",
              "6   7      0   \n",
              "7   8      0   \n",
              "8   9      0   \n",
              "9  10      0   \n",
              "\n",
              "                                                                                                                                             tweet  \n",
              "0                                            @user when a father is dysfunctional and is so selfish he drags his kids into his dysfunction.   #run  \n",
              "1                       @user @user thanks for #lyft credit i can't use cause they don't offer wheelchair vans in pdx.    #disapointed #getthanked  \n",
              "2                                                                                                                              bihday your majesty  \n",
              "3                                                             #model   i love u take with u all the time in urð±!!! ðððð\n",
              "ð¦ð¦ð¦  \n",
              "4                                                                                                           factsguide: society now    #motivation  \n",
              "5                               [2/2] huge fan fare and big talking before they leave. chaos and pay disputes when they get there. #allshowandnogo  \n",
              "6                                                                        @user camping tomorrow @user @user @user @user @user @user @user dannyâ¦  \n",
              "7  the next school year is the year for exams.ð¯ can't think about that ð­ #school #exams   #hate #imagine #actorslife #revolutionschool #girl  \n",
              "8                                                           we won!!! love the land!!! #allin #cavs #champions #cleveland #clevelandcavaliers  â¦  \n",
              "9                                                                                                 @user @user welcome here !  i'm   it's so #gr8 !  "
            ],
            "text/html": [
              "\n",
              "  <div id=\"df-a40ae6c0-e992-4f4d-881a-b6c43ea381ea\" class=\"colab-df-container\">\n",
              "    <div>\n",
              "<style scoped>\n",
              "    .dataframe tbody tr th:only-of-type {\n",
              "        vertical-align: middle;\n",
              "    }\n",
              "\n",
              "    .dataframe tbody tr th {\n",
              "        vertical-align: top;\n",
              "    }\n",
              "\n",
              "    .dataframe thead th {\n",
              "        text-align: right;\n",
              "    }\n",
              "</style>\n",
              "<table border=\"1\" class=\"dataframe\">\n",
              "  <thead>\n",
              "    <tr style=\"text-align: right;\">\n",
              "      <th></th>\n",
              "      <th>id</th>\n",
              "      <th>label</th>\n",
              "      <th>tweet</th>\n",
              "    </tr>\n",
              "  </thead>\n",
              "  <tbody>\n",
              "    <tr>\n",
              "      <th>0</th>\n",
              "      <td>1</td>\n",
              "      <td>0</td>\n",
              "      <td>@user when a father is dysfunctional and is so selfish he drags his kids into his dysfunction.   #run</td>\n",
              "    </tr>\n",
              "    <tr>\n",
              "      <th>1</th>\n",
              "      <td>2</td>\n",
              "      <td>0</td>\n",
              "      <td>@user @user thanks for #lyft credit i can't use cause they don't offer wheelchair vans in pdx.    #disapointed #getthanked</td>\n",
              "    </tr>\n",
              "    <tr>\n",
              "      <th>2</th>\n",
              "      <td>3</td>\n",
              "      <td>0</td>\n",
              "      <td>bihday your majesty</td>\n",
              "    </tr>\n",
              "    <tr>\n",
              "      <th>3</th>\n",
              "      <td>4</td>\n",
              "      <td>0</td>\n",
              "      <td>#model   i love u take with u all the time in urð±!!! ððððð¦ð¦ð¦</td>\n",
              "    </tr>\n",
              "    <tr>\n",
              "      <th>4</th>\n",
              "      <td>5</td>\n",
              "      <td>0</td>\n",
              "      <td>factsguide: society now    #motivation</td>\n",
              "    </tr>\n",
              "    <tr>\n",
              "      <th>5</th>\n",
              "      <td>6</td>\n",
              "      <td>0</td>\n",
              "      <td>[2/2] huge fan fare and big talking before they leave. chaos and pay disputes when they get there. #allshowandnogo</td>\n",
              "    </tr>\n",
              "    <tr>\n",
              "      <th>6</th>\n",
              "      <td>7</td>\n",
              "      <td>0</td>\n",
              "      <td>@user camping tomorrow @user @user @user @user @user @user @user dannyâ¦</td>\n",
              "    </tr>\n",
              "    <tr>\n",
              "      <th>7</th>\n",
              "      <td>8</td>\n",
              "      <td>0</td>\n",
              "      <td>the next school year is the year for exams.ð¯ can't think about that ð­ #school #exams   #hate #imagine #actorslife #revolutionschool #girl</td>\n",
              "    </tr>\n",
              "    <tr>\n",
              "      <th>8</th>\n",
              "      <td>9</td>\n",
              "      <td>0</td>\n",
              "      <td>we won!!! love the land!!! #allin #cavs #champions #cleveland #clevelandcavaliers  â¦</td>\n",
              "    </tr>\n",
              "    <tr>\n",
              "      <th>9</th>\n",
              "      <td>10</td>\n",
              "      <td>0</td>\n",
              "      <td>@user @user welcome here !  i'm   it's so #gr8 !</td>\n",
              "    </tr>\n",
              "  </tbody>\n",
              "</table>\n",
              "</div>\n",
              "    <div class=\"colab-df-buttons\">\n",
              "\n",
              "  <div class=\"colab-df-container\">\n",
              "    <button class=\"colab-df-convert\" onclick=\"convertToInteractive('df-a40ae6c0-e992-4f4d-881a-b6c43ea381ea')\"\n",
              "            title=\"Convert this dataframe to an interactive table.\"\n",
              "            style=\"display:none;\">\n",
              "\n",
              "  <svg xmlns=\"http://www.w3.org/2000/svg\" height=\"24px\" viewBox=\"0 -960 960 960\">\n",
              "    <path d=\"M120-120v-720h720v720H120Zm60-500h600v-160H180v160Zm220 220h160v-160H400v160Zm0 220h160v-160H400v160ZM180-400h160v-160H180v160Zm440 0h160v-160H620v160ZM180-180h160v-160H180v160Zm440 0h160v-160H620v160Z\"/>\n",
              "  </svg>\n",
              "    </button>\n",
              "\n",
              "  <style>\n",
              "    .colab-df-container {\n",
              "      display:flex;\n",
              "      gap: 12px;\n",
              "    }\n",
              "\n",
              "    .colab-df-convert {\n",
              "      background-color: #E8F0FE;\n",
              "      border: none;\n",
              "      border-radius: 50%;\n",
              "      cursor: pointer;\n",
              "      display: none;\n",
              "      fill: #1967D2;\n",
              "      height: 32px;\n",
              "      padding: 0 0 0 0;\n",
              "      width: 32px;\n",
              "    }\n",
              "\n",
              "    .colab-df-convert:hover {\n",
              "      background-color: #E2EBFA;\n",
              "      box-shadow: 0px 1px 2px rgba(60, 64, 67, 0.3), 0px 1px 3px 1px rgba(60, 64, 67, 0.15);\n",
              "      fill: #174EA6;\n",
              "    }\n",
              "\n",
              "    .colab-df-buttons div {\n",
              "      margin-bottom: 4px;\n",
              "    }\n",
              "\n",
              "    [theme=dark] .colab-df-convert {\n",
              "      background-color: #3B4455;\n",
              "      fill: #D2E3FC;\n",
              "    }\n",
              "\n",
              "    [theme=dark] .colab-df-convert:hover {\n",
              "      background-color: #434B5C;\n",
              "      box-shadow: 0px 1px 3px 1px rgba(0, 0, 0, 0.15);\n",
              "      filter: drop-shadow(0px 1px 2px rgba(0, 0, 0, 0.3));\n",
              "      fill: #FFFFFF;\n",
              "    }\n",
              "  </style>\n",
              "\n",
              "    <script>\n",
              "      const buttonEl =\n",
              "        document.querySelector('#df-a40ae6c0-e992-4f4d-881a-b6c43ea381ea button.colab-df-convert');\n",
              "      buttonEl.style.display =\n",
              "        google.colab.kernel.accessAllowed ? 'block' : 'none';\n",
              "\n",
              "      async function convertToInteractive(key) {\n",
              "        const element = document.querySelector('#df-a40ae6c0-e992-4f4d-881a-b6c43ea381ea');\n",
              "        const dataTable =\n",
              "          await google.colab.kernel.invokeFunction('convertToInteractive',\n",
              "                                                    [key], {});\n",
              "        if (!dataTable) return;\n",
              "\n",
              "        const docLinkHtml = 'Like what you see? Visit the ' +\n",
              "          '<a target=\"_blank\" href=https://colab.research.google.com/notebooks/data_table.ipynb>data table notebook</a>'\n",
              "          + ' to learn more about interactive tables.';\n",
              "        element.innerHTML = '';\n",
              "        dataTable['output_type'] = 'display_data';\n",
              "        await google.colab.output.renderOutput(dataTable, element);\n",
              "        const docLink = document.createElement('div');\n",
              "        docLink.innerHTML = docLinkHtml;\n",
              "        element.appendChild(docLink);\n",
              "      }\n",
              "    </script>\n",
              "  </div>\n",
              "\n",
              "\n",
              "<div id=\"df-21dde93a-4ec4-4d58-b56f-5bf7588dd6a9\">\n",
              "  <button class=\"colab-df-quickchart\" onclick=\"quickchart('df-21dde93a-4ec4-4d58-b56f-5bf7588dd6a9')\"\n",
              "            title=\"Suggest charts\"\n",
              "            style=\"display:none;\">\n",
              "\n",
              "<svg xmlns=\"http://www.w3.org/2000/svg\" height=\"24px\"viewBox=\"0 0 24 24\"\n",
              "     width=\"24px\">\n",
              "    <g>\n",
              "        <path d=\"M19 3H5c-1.1 0-2 .9-2 2v14c0 1.1.9 2 2 2h14c1.1 0 2-.9 2-2V5c0-1.1-.9-2-2-2zM9 17H7v-7h2v7zm4 0h-2V7h2v10zm4 0h-2v-4h2v4z\"/>\n",
              "    </g>\n",
              "</svg>\n",
              "  </button>\n",
              "\n",
              "<style>\n",
              "  .colab-df-quickchart {\n",
              "      --bg-color: #E8F0FE;\n",
              "      --fill-color: #1967D2;\n",
              "      --hover-bg-color: #E2EBFA;\n",
              "      --hover-fill-color: #174EA6;\n",
              "      --disabled-fill-color: #AAA;\n",
              "      --disabled-bg-color: #DDD;\n",
              "  }\n",
              "\n",
              "  [theme=dark] .colab-df-quickchart {\n",
              "      --bg-color: #3B4455;\n",
              "      --fill-color: #D2E3FC;\n",
              "      --hover-bg-color: #434B5C;\n",
              "      --hover-fill-color: #FFFFFF;\n",
              "      --disabled-bg-color: #3B4455;\n",
              "      --disabled-fill-color: #666;\n",
              "  }\n",
              "\n",
              "  .colab-df-quickchart {\n",
              "    background-color: var(--bg-color);\n",
              "    border: none;\n",
              "    border-radius: 50%;\n",
              "    cursor: pointer;\n",
              "    display: none;\n",
              "    fill: var(--fill-color);\n",
              "    height: 32px;\n",
              "    padding: 0;\n",
              "    width: 32px;\n",
              "  }\n",
              "\n",
              "  .colab-df-quickchart:hover {\n",
              "    background-color: var(--hover-bg-color);\n",
              "    box-shadow: 0 1px 2px rgba(60, 64, 67, 0.3), 0 1px 3px 1px rgba(60, 64, 67, 0.15);\n",
              "    fill: var(--button-hover-fill-color);\n",
              "  }\n",
              "\n",
              "  .colab-df-quickchart-complete:disabled,\n",
              "  .colab-df-quickchart-complete:disabled:hover {\n",
              "    background-color: var(--disabled-bg-color);\n",
              "    fill: var(--disabled-fill-color);\n",
              "    box-shadow: none;\n",
              "  }\n",
              "\n",
              "  .colab-df-spinner {\n",
              "    border: 2px solid var(--fill-color);\n",
              "    border-color: transparent;\n",
              "    border-bottom-color: var(--fill-color);\n",
              "    animation:\n",
              "      spin 1s steps(1) infinite;\n",
              "  }\n",
              "\n",
              "  @keyframes spin {\n",
              "    0% {\n",
              "      border-color: transparent;\n",
              "      border-bottom-color: var(--fill-color);\n",
              "      border-left-color: var(--fill-color);\n",
              "    }\n",
              "    20% {\n",
              "      border-color: transparent;\n",
              "      border-left-color: var(--fill-color);\n",
              "      border-top-color: var(--fill-color);\n",
              "    }\n",
              "    30% {\n",
              "      border-color: transparent;\n",
              "      border-left-color: var(--fill-color);\n",
              "      border-top-color: var(--fill-color);\n",
              "      border-right-color: var(--fill-color);\n",
              "    }\n",
              "    40% {\n",
              "      border-color: transparent;\n",
              "      border-right-color: var(--fill-color);\n",
              "      border-top-color: var(--fill-color);\n",
              "    }\n",
              "    60% {\n",
              "      border-color: transparent;\n",
              "      border-right-color: var(--fill-color);\n",
              "    }\n",
              "    80% {\n",
              "      border-color: transparent;\n",
              "      border-right-color: var(--fill-color);\n",
              "      border-bottom-color: var(--fill-color);\n",
              "    }\n",
              "    90% {\n",
              "      border-color: transparent;\n",
              "      border-bottom-color: var(--fill-color);\n",
              "    }\n",
              "  }\n",
              "</style>\n",
              "\n",
              "  <script>\n",
              "    async function quickchart(key) {\n",
              "      const quickchartButtonEl =\n",
              "        document.querySelector('#' + key + ' button');\n",
              "      quickchartButtonEl.disabled = true;  // To prevent multiple clicks.\n",
              "      quickchartButtonEl.classList.add('colab-df-spinner');\n",
              "      try {\n",
              "        const charts = await google.colab.kernel.invokeFunction(\n",
              "            'suggestCharts', [key], {});\n",
              "      } catch (error) {\n",
              "        console.error('Error during call to suggestCharts:', error);\n",
              "      }\n",
              "      quickchartButtonEl.classList.remove('colab-df-spinner');\n",
              "      quickchartButtonEl.classList.add('colab-df-quickchart-complete');\n",
              "    }\n",
              "    (() => {\n",
              "      let quickchartButtonEl =\n",
              "        document.querySelector('#df-21dde93a-4ec4-4d58-b56f-5bf7588dd6a9 button');\n",
              "      quickchartButtonEl.style.display =\n",
              "        google.colab.kernel.accessAllowed ? 'block' : 'none';\n",
              "    })();\n",
              "  </script>\n",
              "</div>\n",
              "\n",
              "    </div>\n",
              "  </div>\n"
            ],
            "application/vnd.google.colaboratory.intrinsic+json": {
              "type": "dataframe",
              "variable_name": "df",
              "summary": "{\n  \"name\": \"df\",\n  \"rows\": 31535,\n  \"fields\": [\n    {\n      \"column\": \"id\",\n      \"properties\": {\n        \"dtype\": \"number\",\n        \"std\": 9238,\n        \"min\": 1,\n        \"max\": 31962,\n        \"num_unique_values\": 31535,\n        \"samples\": [\n          822,\n          16265,\n          8867\n        ],\n        \"semantic_type\": \"\",\n        \"description\": \"\"\n      }\n    },\n    {\n      \"column\": \"label\",\n      \"properties\": {\n        \"dtype\": \"number\",\n        \"std\": 0,\n        \"min\": 0,\n        \"max\": 1,\n        \"num_unique_values\": 2,\n        \"samples\": [\n          1,\n          0\n        ],\n        \"semantic_type\": \"\",\n        \"description\": \"\"\n      }\n    },\n    {\n      \"column\": \"tweet\",\n      \"properties\": {\n        \"dtype\": \"string\",\n        \"num_unique_values\": 29130,\n        \"samples\": [\n          \"this obviously  #tcot gets on &amp; #inaspanof maybe #allof two seconds after boarding - thinks he \\\"knows\\\" what\\u00e2\\u0080\\u00a6 \",\n          \"the @user gave #words with #ibbleobble some #fabtastic feedback! we're really  ! \\u00e2\\u0080\\u00a6\"\n        ],\n        \"semantic_type\": \"\",\n        \"description\": \"\"\n      }\n    }\n  ]\n}"
            }
          },
          "metadata": {},
          "execution_count": 51
        }
      ],
      "source": [
        "df = pd.read_csv(\"Lab 1 - Hate Speech.tsv\", sep= \"\\t\")\n",
        "df.head(10)"
      ]
    },
    {
      "cell_type": "code",
      "execution_count": null,
      "metadata": {
        "colab": {
          "base_uri": "https://localhost:8080/"
        },
        "id": "CpTm3DZshKY3",
        "outputId": "ca524521-d30c-41e6-d2d5-848220d55d9c"
      },
      "outputs": [
        {
          "output_type": "execute_result",
          "data": {
            "text/plain": [
              "(31535, 3)"
            ]
          },
          "metadata": {},
          "execution_count": 6
        }
      ],
      "source": [
        "df.shape"
      ]
    },
    {
      "cell_type": "markdown",
      "metadata": {
        "id": "wU1qcJNxhKY3"
      },
      "source": [
        "### Data splitting"
      ]
    },
    {
      "cell_type": "markdown",
      "metadata": {
        "id": "5tMNsm3ChKY3"
      },
      "source": [
        "It is a good practice to split the data before EDA helps maintain the integrity of the machine learning process, prevents data leakage, simulates real-world scenarios more accurately, and ensures reliable model performance evaluation on unseen data."
      ]
    },
    {
      "cell_type": "code",
      "execution_count": null,
      "metadata": {
        "id": "6ckkjSL9hKY3"
      },
      "outputs": [],
      "source": [
        "from sklearn.model_selection import train_test_split\n",
        "\n",
        "X = df['tweet']  # Features\n",
        "y = df['label']  # Target variable\n",
        "\n",
        "# Splitting the data into training and testing sets\n",
        "X_train, X_test, y_train, y_test = train_test_split(X, y, test_size=0.2, random_state=42)"
      ]
    },
    {
      "cell_type": "markdown",
      "metadata": {
        "id": "hqWVKi_GorxZ"
      },
      "source": [
        "### EDA on training data"
      ]
    },
    {
      "cell_type": "markdown",
      "metadata": {
        "id": "R1zxJpFxorxa"
      },
      "source": [
        "- check NaNs"
      ]
    },
    {
      "cell_type": "code",
      "execution_count": null,
      "metadata": {
        "scrolled": true,
        "colab": {
          "base_uri": "https://localhost:8080/"
        },
        "id": "pe8ZVgtqhKY4",
        "outputId": "1ba3a05a-9098-4b37-e86c-3a976f7e6657"
      },
      "outputs": [
        {
          "output_type": "stream",
          "name": "stdout",
          "text": [
            "<class 'pandas.core.frame.DataFrame'>\n",
            "RangeIndex: 31535 entries, 0 to 31534\n",
            "Data columns (total 3 columns):\n",
            " #   Column  Non-Null Count  Dtype \n",
            "---  ------  --------------  ----- \n",
            " 0   id      31535 non-null  int64 \n",
            " 1   label   31535 non-null  int64 \n",
            " 2   tweet   31535 non-null  object\n",
            "dtypes: int64(2), object(1)\n",
            "memory usage: 739.2+ KB\n"
          ]
        }
      ],
      "source": [
        "df.info()"
      ]
    },
    {
      "cell_type": "markdown",
      "metadata": {
        "id": "UwjbzVaIorxb"
      },
      "source": [
        "- check duplicates"
      ]
    },
    {
      "cell_type": "code",
      "execution_count": null,
      "metadata": {
        "id": "J_FlBWISorxb",
        "colab": {
          "base_uri": "https://localhost:8080/"
        },
        "outputId": "4507e41a-9968-41a0-adda-240b8c8a98c7"
      },
      "outputs": [
        {
          "output_type": "execute_result",
          "data": {
            "text/plain": [
              "0"
            ]
          },
          "metadata": {},
          "execution_count": 9
        }
      ],
      "source": [
        "df.duplicated().sum()"
      ]
    },
    {
      "cell_type": "markdown",
      "metadata": {
        "id": "YjIBFc35orxc"
      },
      "source": [
        "- show a representative sample of data texts to find out required preprocessing steps"
      ]
    },
    {
      "cell_type": "code",
      "execution_count": null,
      "metadata": {
        "id": "zGFKzSCRorxc"
      },
      "outputs": [],
      "source": [
        "# # Display a representative sample of text data (10%)\n",
        "# sample_texts = df['tweet'].sample(frac=0.1, random_state=7)\n",
        "# for text in sample_texts:\n",
        "#     print(text)\n",
        "#     print('-' * 50)"
      ]
    },
    {
      "cell_type": "code",
      "execution_count": null,
      "metadata": {
        "colab": {
          "base_uri": "https://localhost:8080/",
          "height": 36
        },
        "id": "1XtNowoKhKY4",
        "outputId": "d42b3c45-4cda-4d58-f526-4d4ede6120b6"
      },
      "outputs": [
        {
          "output_type": "execute_result",
          "data": {
            "text/plain": [
              "'just booked our trip to europeð\\x9f\\x91\\x8fð\\x9f\\x8f»â\\x9c\\x88ï¸\\x8f @user @user   #travelwise #europe2016 #london #paris'"
            ],
            "application/vnd.google.colaboratory.intrinsic+json": {
              "type": "string"
            }
          },
          "metadata": {},
          "execution_count": 11
        }
      ],
      "source": [
        "tweta=df['tweet'][1000]\n",
        "tweta"
      ]
    },
    {
      "cell_type": "code",
      "execution_count": 3,
      "metadata": {
        "id": "CvZwgIVchKY5"
      },
      "outputs": [],
      "source": [
        "import nltk\n",
        "nltk.download('punkt')\n",
        "nltk.download('stopwords')\n",
        "nltk.download('wordnet')"
      ]
    },
    {
      "cell_type": "code",
      "execution_count": null,
      "metadata": {
        "colab": {
          "base_uri": "https://localhost:8080/"
        },
        "id": "luWCXuMZhKY5",
        "outputId": "603a1a73-d777-42cc-a787-48023489491b"
      },
      "outputs": [
        {
          "output_type": "stream",
          "name": "stdout",
          "text": [
            "booked trip europe travelwise europe london paris\n"
          ]
        }
      ],
      "source": [
        "import re\n",
        "from nltk.tokenize import word_tokenize\n",
        "from nltk.corpus import stopwords\n",
        "from nltk.stem import WordNetLemmatizer\n",
        "\n",
        "def clean_text(text):\n",
        "    '''\n",
        "    The `clean_text` function preprocesses a given text string by performing several cleaning steps to prepare it for natural language processing (NLP) tasks. The function follows these steps:\n",
        "\n",
        "    1. Convert to lowercase: Transforms all characters in the text to lowercase to ensure uniformity.\n",
        "    2. Remove URLs: Eliminates any URLs present in the text using a regular expression.\n",
        "    3. Remove mentions and hashtags: Removes Twitter-like mentions (e.g., @user) and hashtags, retaining only the text content.\n",
        "    4. Remove special characters: Strips out all characters that are not letters or spaces, including emojis and punctuation.\n",
        "    5. Tokenization: Splits the text into individual words (tokens).\n",
        "    6. Remove stopwords: Filters out common English stopwords that do not contribute significant meaning.\n",
        "    7. Lemmatization: Converts words to their base or dictionary form.\n",
        "    8. Join tokens: Combines the cleaned tokens back into a single string.\n",
        "\n",
        "    Parameters:\n",
        "    text (str): The input text string to be cleaned.\n",
        "\n",
        "    Returns:\n",
        "    cleaned_text (str): The processed and cleaned text string.\n",
        "    '''\n",
        "    # Convert to lowercase\n",
        "    text = text.lower()\n",
        "\n",
        "    # Remove URLs\n",
        "    text = re.sub(r'http\\S+', '', text)\n",
        "\n",
        "    # Remove mentions and hashtags\n",
        "    text = re.sub(r'@[A-Za-z0-9_]+', '', text)\n",
        "    text = re.sub(r'#', '', text)\n",
        "\n",
        "    # Remove special characters\n",
        "    text = re.sub(r'[^a-zA-Z\\s]', '', text)\n",
        "\n",
        "    # Tokenization\n",
        "    tokens = word_tokenize(text)\n",
        "\n",
        "    # Remove stopwords\n",
        "    stop_words = set(stopwords.words('english'))\n",
        "    tokens = [word for word in tokens if word not in stop_words]\n",
        "\n",
        "    # Lemmatization\n",
        "    lemmatizer = WordNetLemmatizer()\n",
        "    tokens = [lemmatizer.lemmatize(word) for word in tokens]\n",
        "\n",
        "    # Join tokens back into a string\n",
        "    cleaned_text = ' '.join(tokens)\n",
        "\n",
        "    return cleaned_text\n",
        "\n",
        "# Example\n",
        "tweet = \"just booked our trip to europeð\\x9f\\x91\\x8fð\\x9f\\x8f»â\\x9c\\x88ï¸\\x8f @user @user #travelwise #europe2016 #london #paris\"\n",
        "cleaned_tweet = clean_text(tweet)\n",
        "print(cleaned_tweet)\n"
      ]
    },
    {
      "cell_type": "code",
      "execution_count": null,
      "metadata": {
        "colab": {
          "base_uri": "https://localhost:8080/"
        },
        "id": "Fu2niRI6hKY5",
        "outputId": "72840174-b8f3-4a03-b42e-fe4a1cba5256"
      },
      "outputs": [
        {
          "output_type": "execute_result",
          "data": {
            "text/plain": [
              "0                                               father dysfunctional selfish drag kid dysfunction run\n",
              "1              thanks lyft credit cant use cause dont offer wheelchair van pdx disapointed getthanked\n",
              "2                                                                                      bihday majesty\n",
              "3                                                                         model love u take u time ur\n",
              "4                                                                       factsguide society motivation\n",
              "                                                     ...                                             \n",
              "31530                                                                                   ate isz youuu\n",
              "31531    see nina turner airwave trying wrap mantle genuine hero like shirley chisolm shame imwithher\n",
              "31532                                                  listening sad song monday morning otw work sad\n",
              "31533                                                 sikh temple vandalised calgary wso condemns act\n",
              "31534                                                                                    thank follow\n",
              "Name: tweet, Length: 31535, dtype: object"
            ]
          },
          "metadata": {},
          "execution_count": 20
        }
      ],
      "source": [
        "df['tweet'].apply(clean_text)"
      ]
    },
    {
      "cell_type": "markdown",
      "metadata": {
        "id": "UqdSUtbdorxd"
      },
      "source": [
        "- check dataset balancing"
      ]
    },
    {
      "cell_type": "code",
      "execution_count": null,
      "metadata": {
        "colab": {
          "base_uri": "https://localhost:8080/"
        },
        "id": "5y7rHCn0hKY6",
        "outputId": "4ffb8cb9-144f-4673-cb43-12c10e3cba2d"
      },
      "outputs": [
        {
          "output_type": "stream",
          "name": "stdout",
          "text": [
            "label\n",
            "0    29322\n",
            "1     2213\n",
            "Name: count, dtype: int64\n"
          ]
        }
      ],
      "source": [
        "class_counts = df['label'].value_counts()\n",
        "print(class_counts)"
      ]
    },
    {
      "cell_type": "code",
      "execution_count": null,
      "metadata": {
        "id": "JBHrSvXhorxd",
        "colab": {
          "base_uri": "https://localhost:8080/",
          "height": 467
        },
        "outputId": "e760e91f-679d-4212-e717-d744f28971f1"
      },
      "outputs": [
        {
          "output_type": "display_data",
          "data": {
            "text/plain": [
              "<Figure size 640x480 with 1 Axes>"
            ],
            "image/png": "[encoded data removed]"
          },
          "metadata": {}
        }
      ],
      "source": [
        "import matplotlib.pyplot as plt\n",
        "\n",
        "class_counts.plot(kind='bar')\n",
        "plt.xlabel('Class')\n",
        "plt.ylabel('Count')\n",
        "plt.title('Class Distribution')\n",
        "plt.show()\n"
      ]
    },
    {
      "cell_type": "markdown",
      "metadata": {
        "id": "XyJkqK9gorxe"
      },
      "source": [
        "### Cleaning and Preprocessing"
      ]
    },
    {
      "cell_type": "markdown",
      "metadata": {
        "tags": [],
        "id": "d4dVg8_IhKY6"
      },
      "source": [
        "#### Extra: use custom scikit-learn Transformers"
      ]
    },
    {
      "cell_type": "markdown",
      "metadata": {
        "id": "wcNkenzBhKY6"
      },
      "source": [
        "Using custom transformers in scikit-learn provides flexibility, reusability, and control over the data transformation process, allowing you to seamlessly integrate with scikit-learn's pipelines, enabling you to combine multiple preprocessing steps and modeling into a single workflow. This makes your code more modular, readable, and easier to maintain."
      ]
    },
    {
      "cell_type": "markdown",
      "metadata": {
        "tags": [],
        "id": "wrmT4VHGhKY6"
      },
      "source": [
        "##### link: https://www.andrewvillazon.com/custom-scikit-learn-transformers/"
      ]
    },
    {
      "cell_type": "markdown",
      "metadata": {
        "id": "u5fC_KXKhKY7"
      },
      "source": [
        "#### Example usage:"
      ]
    },
    {
      "cell_type": "code",
      "source": [
        "from sklearn.base import TransformerMixin, BaseEstimator"
      ],
      "metadata": {
        "id": "PAGnJ08CmEi1"
      },
      "execution_count": null,
      "outputs": []
    },
    {
      "cell_type": "code",
      "execution_count": null,
      "metadata": {
        "id": "_4K-7so8hKY7"
      },
      "outputs": [],
      "source": [
        "class CustomTransformer(BaseEstimator, TransformerMixin):\n",
        "    def __init__(self):\n",
        "        pass\n",
        "\n",
        "    def fit(self, X, y=None):\n",
        "        # Add code for fitting the transformer here\n",
        "        return self\n",
        "\n",
        "    def transform(self, X):\n",
        "        # Add code for transforming the data here\n",
        "        transformed_X = X.copy()\n",
        "        transformed_X = transformed_X.apply(self.clean_text)\n",
        "        return transformed_X\n",
        "\n",
        "    def clean_text(self,text):\n",
        "        # Convert to lowercase\n",
        "        text = text.lower()\n",
        "\n",
        "        # Remove URLs\n",
        "        text = re.sub(r'http\\S+', '', text)\n",
        "\n",
        "        # Remove mentions and hashtags\n",
        "        #text = re.sub(r'@[A-Za-z0-9_]+', '', text)\n",
        "        #text = re.sub(r'#', '', text)\n",
        "\n",
        "        # Remove special characters\n",
        "        text = re.sub(r'[^a-zA-Z\\s]', '', text)\n",
        "\n",
        "        # Tokenization\n",
        "        tokens = word_tokenize(text)\n",
        "\n",
        "        # Remove stopwords\n",
        "        #stop_words = set(stopwords.words('english'))\n",
        "        #tokens = [word for word in tokens if word not in stop_words]\n",
        "        # Remove stopwords\n",
        "        stop_words = set(stopwords.words('english'))\n",
        "        tokens = [word for word in tokens if word not in stop_words]\n",
        "\n",
        "        # Lemmatization\n",
        "        #lemmatizer = WordNetLemmatizer()\n",
        "        #tokens = [lemmatizer.lemmatize(word) for word in tokens]\n",
        "\n",
        "        # Join tokens back into a string\n",
        "        cleaned_text = ' '.join(tokens)\n",
        "\n",
        "        return cleaned_text\n",
        "\n",
        "    def fit_transform(self, X, y=None):\n",
        "        # This function combines fit and transform\n",
        "        self.fit(X, y)\n",
        "        return self.transform(X)"
      ]
    },
    {
      "cell_type": "markdown",
      "metadata": {
        "id": "ba0r1ASHorxf"
      },
      "source": [
        "**You  are doing Great so far!**"
      ]
    },
    {
      "cell_type": "markdown",
      "metadata": {
        "id": "R9BhRQbYorxf"
      },
      "source": [
        "### Modelling"
      ]
    },
    {
      "cell_type": "markdown",
      "metadata": {
        "id": "Au1FYDPzorxg"
      },
      "source": [
        "#### Extra: use scikit-learn pipline"
      ]
    },
    {
      "cell_type": "markdown",
      "metadata": {
        "id": "XZ2Ay2j8hKZE"
      },
      "source": [
        "##### link: https://scikit-learn.org/stable/modules/generated/sklearn.pipeline.Pipeline.html"
      ]
    },
    {
      "cell_type": "markdown",
      "metadata": {
        "id": "za9wLQWAhKZE"
      },
      "source": [
        "Using pipelines in scikit-learn promotes better code organization, reproducibility, and efficiency in machine learning workflows."
      ]
    },
    {
      "cell_type": "markdown",
      "metadata": {
        "id": "LP5FZzmborxg"
      },
      "source": [
        "#### Example usage:"
      ]
    },
    {
      "cell_type": "code",
      "execution_count": null,
      "metadata": {
        "id": "tpOLBSCBhKZE"
      },
      "outputs": [],
      "source": [
        "from sklearn.feature_extraction.text import TfidfVectorizer\n",
        "from sklearn.feature_extraction.text import CountVectorizer\n",
        "#vectorizer = CountVectorizer()\n",
        "vectorizer = TfidfVectorizer(stop_words='english')\n",
        "count_vectorizer = CountVectorizer(stop_words='english')\n"
      ]
    },
    {
      "cell_type": "code",
      "execution_count": null,
      "metadata": {
        "id": "QHZfOrfMhKZE"
      },
      "outputs": [],
      "source": [
        "from sklearn.linear_model import SGDClassifier\n",
        "\n",
        "model = SGDClassifier()\n"
      ]
    },
    {
      "cell_type": "code",
      "source": [
        "custom_transformer=CustomTransformer()"
      ],
      "metadata": {
        "id": "wGc_qqUHj6s5"
      },
      "execution_count": null,
      "outputs": []
    },
    {
      "cell_type": "code",
      "execution_count": null,
      "metadata": {
        "colab": {
          "base_uri": "https://localhost:8080/",
          "height": 159
        },
        "id": "wnBcI5zshKZE",
        "outputId": "b8add8ab-c438-4b8b-d8d7-93246c8f50cd"
      },
      "outputs": [
        {
          "output_type": "execute_result",
          "data": {
            "text/plain": [
              "Pipeline(steps=[('preprocessing', CustomTransformer()),\n",
              "                ('vectorizing', CountVectorizer(stop_words='english')),\n",
              "                ('model', SGDClassifier())])"
            ],
            "text/html": [
              "<style>#sk-container-id-2 {color: black;background-color: white;}#sk-container-id-2 pre{padding: 0;}#sk-container-id-2 div.sk-toggleable {background-color: white;}#sk-container-id-2 label.sk-toggleable__label {cursor: pointer;display: block;width: 100%;margin-bottom: 0;padding: 0.3em;box-sizing: border-box;text-align: center;}#sk-container-id-2 label.sk-toggleable__label-arrow:before {content: \"▸\";float: left;margin-right: 0.25em;color: #696969;}#sk-container-id-2 label.sk-toggleable__label-arrow:hover:before {color: black;}#sk-container-id-2 div.sk-estimator:hover label.sk-toggleable__label-arrow:before {color: black;}#sk-container-id-2 div.sk-toggleable__content {max-height: 0;max-width: 0;overflow: hidden;text-align: left;background-color: #f0f8ff;}#sk-container-id-2 div.sk-toggleable__content pre {margin: 0.2em;color: black;border-radius: 0.25em;background-color: #f0f8ff;}#sk-container-id-2 input.sk-toggleable__control:checked~div.sk-toggleable__content {max-height: 200px;max-width: 100%;overflow: auto;}#sk-container-id-2 input.sk-toggleable__control:checked~label.sk-toggleable__label-arrow:before {content: \"▾\";}#sk-container-id-2 div.sk-estimator input.sk-toggleable__control:checked~label.sk-toggleable__label {background-color: #d4ebff;}#sk-container-id-2 div.sk-label input.sk-toggleable__control:checked~label.sk-toggleable__label {background-color: #d4ebff;}#sk-container-id-2 input.sk-hidden--visually {border: 0;clip: rect(1px 1px 1px 1px);clip: rect(1px, 1px, 1px, 1px);height: 1px;margin: -1px;overflow: hidden;padding: 0;position: absolute;width: 1px;}#sk-container-id-2 div.sk-estimator {font-family: monospace;background-color: #f0f8ff;border: 1px dotted black;border-radius: 0.25em;box-sizing: border-box;margin-bottom: 0.5em;}#sk-container-id-2 div.sk-estimator:hover {background-color: #d4ebff;}#sk-container-id-2 div.sk-parallel-item::after {content: \"\";width: 100%;border-bottom: 1px solid gray;flex-grow: 1;}#sk-container-id-2 div.sk-label:hover label.sk-toggleable__label {background-color: #d4ebff;}#sk-container-id-2 div.sk-serial::before {content: \"\";position: absolute;border-left: 1px solid gray;box-sizing: border-box;top: 0;bottom: 0;left: 50%;z-index: 0;}#sk-container-id-2 div.sk-serial {display: flex;flex-direction: column;align-items: center;background-color: white;padding-right: 0.2em;padding-left: 0.2em;position: relative;}#sk-container-id-2 div.sk-item {position: relative;z-index: 1;}#sk-container-id-2 div.sk-parallel {display: flex;align-items: stretch;justify-content: center;background-color: white;position: relative;}#sk-container-id-2 div.sk-item::before, #sk-container-id-2 div.sk-parallel-item::before {content: \"\";position: absolute;border-left: 1px solid gray;box-sizing: border-box;top: 0;bottom: 0;left: 50%;z-index: -1;}#sk-container-id-2 div.sk-parallel-item {display: flex;flex-direction: column;z-index: 1;position: relative;background-color: white;}#sk-container-id-2 div.sk-parallel-item:first-child::after {align-self: flex-end;width: 50%;}#sk-container-id-2 div.sk-parallel-item:last-child::after {align-self: flex-start;width: 50%;}#sk-container-id-2 div.sk-parallel-item:only-child::after {width: 0;}#sk-container-id-2 div.sk-dashed-wrapped {border: 1px dashed gray;margin: 0 0.4em 0.5em 0.4em;box-sizing: border-box;padding-bottom: 0.4em;background-color: white;}#sk-container-id-2 div.sk-label label {font-family: monospace;font-weight: bold;display: inline-block;line-height: 1.2em;}#sk-container-id-2 div.sk-label-container {text-align: center;}#sk-container-id-2 div.sk-container {/* jupyter's `normalize.less` sets `[hidden] { display: none; }` but bootstrap.min.css set `[hidden] { display: none !important; }` so we also need the `!important` here to be able to override the default hidden behavior on the sphinx rendered scikit-learn.org. See: https://github.com/scikit-learn/scikit-learn/issues/21755 */display: inline-block !important;position: relative;}#sk-container-id-2 div.sk-text-repr-fallback {display: none;}</style><div id=\"sk-container-id-2\" class=\"sk-top-container\"><div class=\"sk-text-repr-fallback\"><pre>Pipeline(steps=[(&#x27;preprocessing&#x27;, CustomTransformer()),\n",
              "                (&#x27;vectorizing&#x27;, CountVectorizer(stop_words=&#x27;english&#x27;)),\n",
              "                (&#x27;model&#x27;, SGDClassifier())])</pre><b>In a Jupyter environment, please rerun this cell to show the HTML representation or trust the notebook. <br />On GitHub, the HTML representation is unable to render, please try loading this page with nbviewer.org.</b></div><div class=\"sk-container\" hidden><div class=\"sk-item sk-dashed-wrapped\"><div class=\"sk-label-container\"><div class=\"sk-label sk-toggleable\"><input class=\"sk-toggleable__control sk-hidden--visually\" id=\"sk-estimator-id-5\" type=\"checkbox\" ><label for=\"sk-estimator-id-5\" class=\"sk-toggleable__label sk-toggleable__label-arrow\">Pipeline</label><div class=\"sk-toggleable__content\"><pre>Pipeline(steps=[(&#x27;preprocessing&#x27;, CustomTransformer()),\n",
              "                (&#x27;vectorizing&#x27;, CountVectorizer(stop_words=&#x27;english&#x27;)),\n",
              "                (&#x27;model&#x27;, SGDClassifier())])</pre></div></div></div><div class=\"sk-serial\"><div class=\"sk-item\"><div class=\"sk-estimator sk-toggleable\"><input class=\"sk-toggleable__control sk-hidden--visually\" id=\"sk-estimator-id-6\" type=\"checkbox\" ><label for=\"sk-estimator-id-6\" class=\"sk-toggleable__label sk-toggleable__label-arrow\">CustomTransformer</label><div class=\"sk-toggleable__content\"><pre>CustomTransformer()</pre></div></div></div><div class=\"sk-item\"><div class=\"sk-estimator sk-toggleable\"><input class=\"sk-toggleable__control sk-hidden--visually\" id=\"sk-estimator-id-7\" type=\"checkbox\" ><label for=\"sk-estimator-id-7\" class=\"sk-toggleable__label sk-toggleable__label-arrow\">CountVectorizer</label><div class=\"sk-toggleable__content\"><pre>CountVectorizer(stop_words=&#x27;english&#x27;)</pre></div></div></div><div class=\"sk-item\"><div class=\"sk-estimator sk-toggleable\"><input class=\"sk-toggleable__control sk-hidden--visually\" id=\"sk-estimator-id-8\" type=\"checkbox\" ><label for=\"sk-estimator-id-8\" class=\"sk-toggleable__label sk-toggleable__label-arrow\">SGDClassifier</label><div class=\"sk-toggleable__content\"><pre>SGDClassifier()</pre></div></div></div></div></div></div></div>"
            ]
          },
          "metadata": {},
          "execution_count": 37
        }
      ],
      "source": [
        "from sklearn.pipeline import Pipeline\n",
        "\n",
        "pipeline = Pipeline(steps=[\n",
        "    ('preprocessing', custom_transformer),  # Preprocessing step\n",
        "    ('vectorizing', count_vectorizer),             # Vectorization step\n",
        "    ('model', model)                         # Model fitting and prediction step\n",
        "])\n",
        "\n",
        "# Now you can use the pipeline for training and prediction\n",
        "pipeline.fit(X_train, y_train)"
      ]
    },
    {
      "cell_type": "markdown",
      "metadata": {
        "id": "85JlkIQXorxg"
      },
      "source": [
        "#### Evaluation"
      ]
    },
    {
      "cell_type": "markdown",
      "metadata": {
        "id": "oU-8Y22ShKZG"
      },
      "source": [
        "**Evaluation metric:**\n",
        "macro f1 score\n",
        "\n",
        "Macro F1 score is a useful metric in scenarios where you want to evaluate the overall performance of a multi-class classification model, **particularly when the classes are imbalanced**"
      ]
    },
    {
      "cell_type": "markdown",
      "metadata": {
        "id": "TBzuH-xahKZH"
      },
      "source": [
        "![Calculation](https://assets-global.website-files.com/5d7b77b063a9066d83e1209c/639c3d934e82c1195cdf3c60_macro-f1.webp)"
      ]
    },
    {
      "cell_type": "code",
      "execution_count": null,
      "metadata": {
        "colab": {
          "base_uri": "https://localhost:8080/"
        },
        "id": "Ka2lnXrkhKZG",
        "outputId": "72c9bbc9-e3d6-4c1a-ce82-72b1ef465b30"
      },
      "outputs": [
        {
          "output_type": "stream",
          "name": "stdout",
          "text": [
            "Macro F1 Score: 0.8419702016506969\n"
          ]
        }
      ],
      "source": [
        "from sklearn.metrics import f1_score\n",
        "\n",
        "# Assuming you have X_train, y_train for training and X_test, y_test for evaluation\n",
        "\n",
        "# Train the pipeline\n",
        "pipeline.fit(X_train, y_train)\n",
        "\n",
        "# Predict with the pipeline\n",
        "predictions = pipeline.predict(X_test)\n",
        "\n",
        "# Evaluate the predictions using macro F1 score\n",
        "macro_f1 = f1_score(y_test, predictions, average='macro')\n",
        "\n",
        "print(\"Macro F1 Score:\", macro_f1)\n"
      ]
    },
    {
      "cell_type": "markdown",
      "metadata": {
        "id": "fhVFUaIcorxh"
      },
      "source": [
        "### Enhancement\n",
        "\n",
        "- Using different N-grams\n",
        "- Using different text representation technique\n",
        "- Hyperparameter tuning"
      ]
    },
    {
      "cell_type": "code",
      "source": [
        "# pip install optuna"
      ],
      "metadata": {
        "id": "8dwI3Z1PohFm"
      },
      "execution_count": null,
      "outputs": []
    },
    {
      "cell_type": "code",
      "source": [
        "import optuna\n",
        "from sklearn.pipeline import Pipeline\n",
        "from sklearn.feature_extraction.text import CountVectorizer, TfidfVectorizer\n",
        "from sklearn.linear_model import SGDClassifier\n",
        "from sklearn.naive_bayes import MultinomialNB\n",
        "from sklearn.ensemble import RandomForestClassifier\n",
        "from sklearn.model_selection import cross_val_score\n",
        "import pandas as pd\n",
        "from sklearn.base import BaseEstimator, TransformerMixin\n",
        "import re\n",
        "import nltk\n",
        "from nltk.tokenize import word_tokenize\n",
        "from nltk.corpus import stopwords\n",
        "from nltk.stem import WordNetLemmatizer"
      ],
      "metadata": {
        "id": "gveJeCHPofed"
      },
      "execution_count": null,
      "outputs": []
    },
    {
      "cell_type": "code",
      "execution_count": null,
      "metadata": {
        "id": "Y4h1Danvorxh",
        "colab": {
          "base_uri": "https://localhost:8080/",
          "height": 1000
        },
        "outputId": "5be2a430-38e9-48bd-8d4d-699e044ee08d"
      },
      "outputs": [
        {
          "output_type": "stream",
          "name": "stderr",
          "text": [
            "[I 2024-05-18 07:38:48,738] A new study created in memory with name: no-name-27150407-6166-45da-bda0-f83383bae2ca\n",
            "/usr/local/lib/python3.10/dist-packages/optuna/distributions.py:524: UserWarning: Choices for a categorical distribution should be a tuple of None, bool, int, float and str for persistent storage but contains (1, 1) which is of type tuple.\n",
            "  warnings.warn(message)\n",
            "/usr/local/lib/python3.10/dist-packages/optuna/distributions.py:524: UserWarning: Choices for a categorical distribution should be a tuple of None, bool, int, float and str for persistent storage but contains (1, 2) which is of type tuple.\n",
            "  warnings.warn(message)\n",
            "/usr/local/lib/python3.10/dist-packages/optuna/distributions.py:524: UserWarning: Choices for a categorical distribution should be a tuple of None, bool, int, float and str for persistent storage but contains (1, 3) which is of type tuple.\n",
            "  warnings.warn(message)\n",
            "<ipython-input-43-a9e863e70c42>:17: FutureWarning: suggest_loguniform has been deprecated in v3.0.0. This feature will be removed in v6.0.0. See https://github.com/optuna/optuna/releases/tag/v3.0.0. Use suggest_float(..., log=True) instead.\n",
            "  alpha = trial.suggest_loguniform('alpha', 1e-5, 1e-1)\n",
            "[I 2024-05-18 07:39:16,863] Trial 0 finished with value: 0.9380847540479887 and parameters: {'vectorizer': 'count', 'max_features': 3364, 'ngram_range': (1, 3), 'model': 'sgd', 'max_iter': 1967, 'alpha': 0.00020682369235962847, 'loss': 'modified_huber', 'penalty': 'l1'}. Best is trial 0 with value: 0.9380847540479887.\n",
            "/usr/local/lib/python3.10/dist-packages/optuna/distributions.py:524: UserWarning: Choices for a categorical distribution should be a tuple of None, bool, int, float and str for persistent storage but contains (1, 1) which is of type tuple.\n",
            "  warnings.warn(message)\n",
            "/usr/local/lib/python3.10/dist-packages/optuna/distributions.py:524: UserWarning: Choices for a categorical distribution should be a tuple of None, bool, int, float and str for persistent storage but contains (1, 2) which is of type tuple.\n",
            "  warnings.warn(message)\n",
            "/usr/local/lib/python3.10/dist-packages/optuna/distributions.py:524: UserWarning: Choices for a categorical distribution should be a tuple of None, bool, int, float and str for persistent storage but contains (1, 3) which is of type tuple.\n",
            "  warnings.warn(message)\n",
            "<ipython-input-43-a9e863e70c42>:22: FutureWarning: suggest_loguniform has been deprecated in v3.0.0. This feature will be removed in v6.0.0. See https://github.com/optuna/optuna/releases/tag/v3.0.0. Use suggest_float(..., log=True) instead.\n",
            "  alpha = trial.suggest_loguniform('nb_alpha', 1e-3, 1e0)\n",
            "[I 2024-05-18 07:39:42,442] Trial 1 finished with value: 0.944902459272658 and parameters: {'vectorizer': 'count', 'max_features': 3550, 'ngram_range': (1, 1), 'model': 'nb', 'nb_alpha': 0.990176549188892}. Best is trial 1 with value: 0.944902459272658.\n",
            "/usr/local/lib/python3.10/dist-packages/optuna/distributions.py:524: UserWarning: Choices for a categorical distribution should be a tuple of None, bool, int, float and str for persistent storage but contains (1, 1) which is of type tuple.\n",
            "  warnings.warn(message)\n",
            "/usr/local/lib/python3.10/dist-packages/optuna/distributions.py:524: UserWarning: Choices for a categorical distribution should be a tuple of None, bool, int, float and str for persistent storage but contains (1, 2) which is of type tuple.\n",
            "  warnings.warn(message)\n",
            "/usr/local/lib/python3.10/dist-packages/optuna/distributions.py:524: UserWarning: Choices for a categorical distribution should be a tuple of None, bool, int, float and str for persistent storage but contains (1, 3) which is of type tuple.\n",
            "  warnings.warn(message)\n",
            "<ipython-input-43-a9e863e70c42>:17: FutureWarning: suggest_loguniform has been deprecated in v3.0.0. This feature will be removed in v6.0.0. See https://github.com/optuna/optuna/releases/tag/v3.0.0. Use suggest_float(..., log=True) instead.\n",
            "  alpha = trial.suggest_loguniform('alpha', 1e-5, 1e-1)\n",
            "/usr/local/lib/python3.10/dist-packages/sklearn/linear_model/_stochastic_gradient.py:163: FutureWarning: The loss 'log' was deprecated in v1.1 and will be removed in version 1.3. Use `loss='log_loss'` which is equivalent.\n",
            "  warnings.warn(\n",
            "/usr/local/lib/python3.10/dist-packages/sklearn/linear_model/_stochastic_gradient.py:163: FutureWarning: The loss 'log' was deprecated in v1.1 and will be removed in version 1.3. Use `loss='log_loss'` which is equivalent.\n",
            "  warnings.warn(\n",
            "/usr/local/lib/python3.10/dist-packages/sklearn/linear_model/_stochastic_gradient.py:163: FutureWarning: The loss 'log' was deprecated in v1.1 and will be removed in version 1.3. Use `loss='log_loss'` which is equivalent.\n",
            "  warnings.warn(\n",
            "[I 2024-05-18 07:40:05,462] Trial 2 finished with value: 0.9483114532883276 and parameters: {'vectorizer': 'count', 'max_features': 1649, 'ngram_range': (1, 1), 'model': 'sgd', 'max_iter': 278, 'alpha': 8.864939298425602e-05, 'loss': 'log', 'penalty': 'l1'}. Best is trial 2 with value: 0.9483114532883276.\n",
            "/usr/local/lib/python3.10/dist-packages/optuna/distributions.py:524: UserWarning: Choices for a categorical distribution should be a tuple of None, bool, int, float and str for persistent storage but contains (1, 1) which is of type tuple.\n",
            "  warnings.warn(message)\n",
            "/usr/local/lib/python3.10/dist-packages/optuna/distributions.py:524: UserWarning: Choices for a categorical distribution should be a tuple of None, bool, int, float and str for persistent storage but contains (1, 2) which is of type tuple.\n",
            "  warnings.warn(message)\n",
            "/usr/local/lib/python3.10/dist-packages/optuna/distributions.py:524: UserWarning: Choices for a categorical distribution should be a tuple of None, bool, int, float and str for persistent storage but contains (1, 3) which is of type tuple.\n",
            "  warnings.warn(message)\n",
            "[I 2024-05-18 07:40:38,648] Trial 3 finished with value: 0.934953226369252 and parameters: {'vectorizer': 'tfidf', 'max_features': 3026, 'ngram_range': (1, 2), 'model': 'rf', 'n_estimators': 200, 'max_depth': 10}. Best is trial 2 with value: 0.9483114532883276.\n",
            "/usr/local/lib/python3.10/dist-packages/optuna/distributions.py:524: UserWarning: Choices for a categorical distribution should be a tuple of None, bool, int, float and str for persistent storage but contains (1, 1) which is of type tuple.\n",
            "  warnings.warn(message)\n",
            "/usr/local/lib/python3.10/dist-packages/optuna/distributions.py:524: UserWarning: Choices for a categorical distribution should be a tuple of None, bool, int, float and str for persistent storage but contains (1, 2) which is of type tuple.\n",
            "  warnings.warn(message)\n",
            "/usr/local/lib/python3.10/dist-packages/optuna/distributions.py:524: UserWarning: Choices for a categorical distribution should be a tuple of None, bool, int, float and str for persistent storage but contains (1, 3) which is of type tuple.\n",
            "  warnings.warn(message)\n",
            "<ipython-input-43-a9e863e70c42>:22: FutureWarning: suggest_loguniform has been deprecated in v3.0.0. This feature will be removed in v6.0.0. See https://github.com/optuna/optuna/releases/tag/v3.0.0. Use suggest_float(..., log=True) instead.\n",
            "  alpha = trial.suggest_loguniform('nb_alpha', 1e-3, 1e0)\n",
            "[I 2024-05-18 07:41:04,382] Trial 4 finished with value: 0.9363008897050689 and parameters: {'vectorizer': 'count', 'max_features': 2611, 'ngram_range': (1, 2), 'model': 'nb', 'nb_alpha': 0.02449207193852574}. Best is trial 2 with value: 0.9483114532883276.\n",
            "/usr/local/lib/python3.10/dist-packages/optuna/distributions.py:524: UserWarning: Choices for a categorical distribution should be a tuple of None, bool, int, float and str for persistent storage but contains (1, 1) which is of type tuple.\n",
            "  warnings.warn(message)\n",
            "/usr/local/lib/python3.10/dist-packages/optuna/distributions.py:524: UserWarning: Choices for a categorical distribution should be a tuple of None, bool, int, float and str for persistent storage but contains (1, 2) which is of type tuple.\n",
            "  warnings.warn(message)\n",
            "/usr/local/lib/python3.10/dist-packages/optuna/distributions.py:524: UserWarning: Choices for a categorical distribution should be a tuple of None, bool, int, float and str for persistent storage but contains (1, 3) which is of type tuple.\n",
            "  warnings.warn(message)\n",
            "[I 2024-05-18 07:41:34,669] Trial 5 finished with value: 0.9340811637230498 and parameters: {'vectorizer': 'tfidf', 'max_features': 4095, 'ngram_range': (1, 3), 'model': 'rf', 'n_estimators': 157, 'max_depth': 6}. Best is trial 2 with value: 0.9483114532883276.\n",
            "/usr/local/lib/python3.10/dist-packages/optuna/distributions.py:524: UserWarning: Choices for a categorical distribution should be a tuple of None, bool, int, float and str for persistent storage but contains (1, 1) which is of type tuple.\n",
            "  warnings.warn(message)\n",
            "/usr/local/lib/python3.10/dist-packages/optuna/distributions.py:524: UserWarning: Choices for a categorical distribution should be a tuple of None, bool, int, float and str for persistent storage but contains (1, 2) which is of type tuple.\n",
            "  warnings.warn(message)\n",
            "/usr/local/lib/python3.10/dist-packages/optuna/distributions.py:524: UserWarning: Choices for a categorical distribution should be a tuple of None, bool, int, float and str for persistent storage but contains (1, 3) which is of type tuple.\n",
            "  warnings.warn(message)\n",
            "<ipython-input-43-a9e863e70c42>:22: FutureWarning: suggest_loguniform has been deprecated in v3.0.0. This feature will be removed in v6.0.0. See https://github.com/optuna/optuna/releases/tag/v3.0.0. Use suggest_float(..., log=True) instead.\n",
            "  alpha = trial.suggest_loguniform('nb_alpha', 1e-3, 1e0)\n",
            "[I 2024-05-18 07:42:23,498] Trial 6 finished with value: 0.944862951180923 and parameters: {'vectorizer': 'tfidf', 'max_features': 1104, 'ngram_range': (1, 3), 'model': 'nb', 'nb_alpha': 0.18439040286511474}. Best is trial 2 with value: 0.9483114532883276.\n",
            "/usr/local/lib/python3.10/dist-packages/optuna/distributions.py:524: UserWarning: Choices for a categorical distribution should be a tuple of None, bool, int, float and str for persistent storage but contains (1, 1) which is of type tuple.\n",
            "  warnings.warn(message)\n",
            "/usr/local/lib/python3.10/dist-packages/optuna/distributions.py:524: UserWarning: Choices for a categorical distribution should be a tuple of None, bool, int, float and str for persistent storage but contains (1, 2) which is of type tuple.\n",
            "  warnings.warn(message)\n",
            "/usr/local/lib/python3.10/dist-packages/optuna/distributions.py:524: UserWarning: Choices for a categorical distribution should be a tuple of None, bool, int, float and str for persistent storage but contains (1, 3) which is of type tuple.\n",
            "  warnings.warn(message)\n",
            "[I 2024-05-18 07:42:53,585] Trial 7 finished with value: 0.9328919805314003 and parameters: {'vectorizer': 'tfidf', 'max_features': 2201, 'ngram_range': (1, 2), 'model': 'rf', 'n_estimators': 143, 'max_depth': 5}. Best is trial 2 with value: 0.9483114532883276.\n",
            "/usr/local/lib/python3.10/dist-packages/optuna/distributions.py:524: UserWarning: Choices for a categorical distribution should be a tuple of None, bool, int, float and str for persistent storage but contains (1, 1) which is of type tuple.\n",
            "  warnings.warn(message)\n",
            "/usr/local/lib/python3.10/dist-packages/optuna/distributions.py:524: UserWarning: Choices for a categorical distribution should be a tuple of None, bool, int, float and str for persistent storage but contains (1, 2) which is of type tuple.\n",
            "  warnings.warn(message)\n",
            "/usr/local/lib/python3.10/dist-packages/optuna/distributions.py:524: UserWarning: Choices for a categorical distribution should be a tuple of None, bool, int, float and str for persistent storage but contains (1, 3) which is of type tuple.\n",
            "  warnings.warn(message)\n",
            "<ipython-input-43-a9e863e70c42>:22: FutureWarning: suggest_loguniform has been deprecated in v3.0.0. This feature will be removed in v6.0.0. See https://github.com/optuna/optuna/releases/tag/v3.0.0. Use suggest_float(..., log=True) instead.\n",
            "  alpha = trial.suggest_loguniform('nb_alpha', 1e-3, 1e0)\n",
            "[I 2024-05-18 07:43:22,173] Trial 8 finished with value: 0.9455367522114422 and parameters: {'vectorizer': 'tfidf', 'max_features': 1344, 'ngram_range': (1, 3), 'model': 'nb', 'nb_alpha': 0.0686729931272031}. Best is trial 2 with value: 0.9483114532883276.\n",
            "/usr/local/lib/python3.10/dist-packages/optuna/distributions.py:524: UserWarning: Choices for a categorical distribution should be a tuple of None, bool, int, float and str for persistent storage but contains (1, 1) which is of type tuple.\n",
            "  warnings.warn(message)\n",
            "/usr/local/lib/python3.10/dist-packages/optuna/distributions.py:524: UserWarning: Choices for a categorical distribution should be a tuple of None, bool, int, float and str for persistent storage but contains (1, 2) which is of type tuple.\n",
            "  warnings.warn(message)\n",
            "/usr/local/lib/python3.10/dist-packages/optuna/distributions.py:524: UserWarning: Choices for a categorical distribution should be a tuple of None, bool, int, float and str for persistent storage but contains (1, 3) which is of type tuple.\n",
            "  warnings.warn(message)\n",
            "[I 2024-05-18 07:43:51,111] Trial 9 finished with value: 0.9328523828842199 and parameters: {'vectorizer': 'count', 'max_features': 1194, 'ngram_range': (1, 2), 'model': 'rf', 'n_estimators': 188, 'max_depth': 6}. Best is trial 2 with value: 0.9483114532883276.\n",
            "/usr/local/lib/python3.10/dist-packages/optuna/distributions.py:524: UserWarning: Choices for a categorical distribution should be a tuple of None, bool, int, float and str for persistent storage but contains (1, 1) which is of type tuple.\n",
            "  warnings.warn(message)\n",
            "/usr/local/lib/python3.10/dist-packages/optuna/distributions.py:524: UserWarning: Choices for a categorical distribution should be a tuple of None, bool, int, float and str for persistent storage but contains (1, 2) which is of type tuple.\n",
            "  warnings.warn(message)\n",
            "/usr/local/lib/python3.10/dist-packages/optuna/distributions.py:524: UserWarning: Choices for a categorical distribution should be a tuple of None, bool, int, float and str for persistent storage but contains (1, 3) which is of type tuple.\n",
            "  warnings.warn(message)\n",
            "<ipython-input-43-a9e863e70c42>:17: FutureWarning: suggest_loguniform has been deprecated in v3.0.0. This feature will be removed in v6.0.0. See https://github.com/optuna/optuna/releases/tag/v3.0.0. Use suggest_float(..., log=True) instead.\n",
            "  alpha = trial.suggest_loguniform('alpha', 1e-5, 1e-1)\n",
            "/usr/local/lib/python3.10/dist-packages/sklearn/linear_model/_stochastic_gradient.py:163: FutureWarning: The loss 'log' was deprecated in v1.1 and will be removed in version 1.3. Use `loss='log_loss'` which is equivalent.\n",
            "  warnings.warn(\n",
            "/usr/local/lib/python3.10/dist-packages/sklearn/linear_model/_stochastic_gradient.py:163: FutureWarning: The loss 'log' was deprecated in v1.1 and will be removed in version 1.3. Use `loss='log_loss'` which is equivalent.\n",
            "  warnings.warn(\n",
            "/usr/local/lib/python3.10/dist-packages/sklearn/linear_model/_stochastic_gradient.py:163: FutureWarning: The loss 'log' was deprecated in v1.1 and will be removed in version 1.3. Use `loss='log_loss'` which is equivalent.\n",
            "  warnings.warn(\n",
            "[I 2024-05-18 07:44:16,627] Trial 10 finished with value: 0.9393530901129986 and parameters: {'vectorizer': 'count', 'max_features': 526, 'ngram_range': (1, 1), 'model': 'sgd', 'max_iter': 162, 'alpha': 1.0619754962519041e-05, 'loss': 'log', 'penalty': 'l2'}. Best is trial 2 with value: 0.9483114532883276.\n",
            "/usr/local/lib/python3.10/dist-packages/optuna/distributions.py:524: UserWarning: Choices for a categorical distribution should be a tuple of None, bool, int, float and str for persistent storage but contains (1, 1) which is of type tuple.\n",
            "  warnings.warn(message)\n",
            "/usr/local/lib/python3.10/dist-packages/optuna/distributions.py:524: UserWarning: Choices for a categorical distribution should be a tuple of None, bool, int, float and str for persistent storage but contains (1, 2) which is of type tuple.\n",
            "  warnings.warn(message)\n",
            "/usr/local/lib/python3.10/dist-packages/optuna/distributions.py:524: UserWarning: Choices for a categorical distribution should be a tuple of None, bool, int, float and str for persistent storage but contains (1, 3) which is of type tuple.\n",
            "  warnings.warn(message)\n",
            "<ipython-input-43-a9e863e70c42>:17: FutureWarning: suggest_loguniform has been deprecated in v3.0.0. This feature will be removed in v6.0.0. See https://github.com/optuna/optuna/releases/tag/v3.0.0. Use suggest_float(..., log=True) instead.\n",
            "  alpha = trial.suggest_loguniform('alpha', 1e-5, 1e-1)\n",
            "[I 2024-05-18 07:44:40,932] Trial 11 finished with value: 0.9294038383558147 and parameters: {'vectorizer': 'tfidf', 'max_features': 1719, 'ngram_range': (1, 1), 'model': 'sgd', 'max_iter': 221, 'alpha': 0.02535573335826552, 'loss': 'hinge', 'penalty': 'elasticnet'}. Best is trial 2 with value: 0.9483114532883276.\n",
            "/usr/local/lib/python3.10/dist-packages/optuna/distributions.py:524: UserWarning: Choices for a categorical distribution should be a tuple of None, bool, int, float and str for persistent storage but contains (1, 1) which is of type tuple.\n",
            "  warnings.warn(message)\n",
            "/usr/local/lib/python3.10/dist-packages/optuna/distributions.py:524: UserWarning: Choices for a categorical distribution should be a tuple of None, bool, int, float and str for persistent storage but contains (1, 2) which is of type tuple.\n",
            "  warnings.warn(message)\n",
            "/usr/local/lib/python3.10/dist-packages/optuna/distributions.py:524: UserWarning: Choices for a categorical distribution should be a tuple of None, bool, int, float and str for persistent storage but contains (1, 3) which is of type tuple.\n",
            "  warnings.warn(message)\n",
            "<ipython-input-43-a9e863e70c42>:22: FutureWarning: suggest_loguniform has been deprecated in v3.0.0. This feature will be removed in v6.0.0. See https://github.com/optuna/optuna/releases/tag/v3.0.0. Use suggest_float(..., log=True) instead.\n",
            "  alpha = trial.suggest_loguniform('nb_alpha', 1e-3, 1e0)\n",
            "[I 2024-05-18 07:45:08,078] Trial 12 finished with value: 0.9471619195917479 and parameters: {'vectorizer': 'tfidf', 'max_features': 1863, 'ngram_range': (1, 3), 'model': 'nb', 'nb_alpha': 0.001128233565437709}. Best is trial 2 with value: 0.9483114532883276.\n",
            "/usr/local/lib/python3.10/dist-packages/optuna/distributions.py:524: UserWarning: Choices for a categorical distribution should be a tuple of None, bool, int, float and str for persistent storage but contains (1, 1) which is of type tuple.\n",
            "  warnings.warn(message)\n",
            "/usr/local/lib/python3.10/dist-packages/optuna/distributions.py:524: UserWarning: Choices for a categorical distribution should be a tuple of None, bool, int, float and str for persistent storage but contains (1, 2) which is of type tuple.\n",
            "  warnings.warn(message)\n",
            "/usr/local/lib/python3.10/dist-packages/optuna/distributions.py:524: UserWarning: Choices for a categorical distribution should be a tuple of None, bool, int, float and str for persistent storage but contains (1, 3) which is of type tuple.\n",
            "  warnings.warn(message)\n",
            "<ipython-input-43-a9e863e70c42>:17: FutureWarning: suggest_loguniform has been deprecated in v3.0.0. This feature will be removed in v6.0.0. See https://github.com/optuna/optuna/releases/tag/v3.0.0. Use suggest_float(..., log=True) instead.\n",
            "  alpha = trial.suggest_loguniform('alpha', 1e-5, 1e-1)\n",
            "/usr/local/lib/python3.10/dist-packages/sklearn/linear_model/_stochastic_gradient.py:163: FutureWarning: The loss 'log' was deprecated in v1.1 and will be removed in version 1.3. Use `loss='log_loss'` which is equivalent.\n",
            "  warnings.warn(\n",
            "/usr/local/lib/python3.10/dist-packages/sklearn/linear_model/_stochastic_gradient.py:163: FutureWarning: The loss 'log' was deprecated in v1.1 and will be removed in version 1.3. Use `loss='log_loss'` which is equivalent.\n",
            "  warnings.warn(\n",
            "/usr/local/lib/python3.10/dist-packages/sklearn/linear_model/_stochastic_gradient.py:163: FutureWarning: The loss 'log' was deprecated in v1.1 and will be removed in version 1.3. Use `loss='log_loss'` which is equivalent.\n",
            "  warnings.warn(\n",
            "[I 2024-05-18 07:45:32,424] Trial 13 finished with value: 0.9481925142300067 and parameters: {'vectorizer': 'count', 'max_features': 2036, 'ngram_range': (1, 1), 'model': 'sgd', 'max_iter': 984, 'alpha': 0.00018356965935073852, 'loss': 'log', 'penalty': 'l1'}. Best is trial 2 with value: 0.9483114532883276.\n",
            "/usr/local/lib/python3.10/dist-packages/optuna/distributions.py:524: UserWarning: Choices for a categorical distribution should be a tuple of None, bool, int, float and str for persistent storage but contains (1, 1) which is of type tuple.\n",
            "  warnings.warn(message)\n",
            "/usr/local/lib/python3.10/dist-packages/optuna/distributions.py:524: UserWarning: Choices for a categorical distribution should be a tuple of None, bool, int, float and str for persistent storage but contains (1, 2) which is of type tuple.\n",
            "  warnings.warn(message)\n",
            "/usr/local/lib/python3.10/dist-packages/optuna/distributions.py:524: UserWarning: Choices for a categorical distribution should be a tuple of None, bool, int, float and str for persistent storage but contains (1, 3) which is of type tuple.\n",
            "  warnings.warn(message)\n",
            "<ipython-input-43-a9e863e70c42>:17: FutureWarning: suggest_loguniform has been deprecated in v3.0.0. This feature will be removed in v6.0.0. See https://github.com/optuna/optuna/releases/tag/v3.0.0. Use suggest_float(..., log=True) instead.\n",
            "  alpha = trial.suggest_loguniform('alpha', 1e-5, 1e-1)\n",
            "/usr/local/lib/python3.10/dist-packages/sklearn/linear_model/_stochastic_gradient.py:163: FutureWarning: The loss 'log' was deprecated in v1.1 and will be removed in version 1.3. Use `loss='log_loss'` which is equivalent.\n",
            "  warnings.warn(\n",
            "/usr/local/lib/python3.10/dist-packages/sklearn/linear_model/_stochastic_gradient.py:163: FutureWarning: The loss 'log' was deprecated in v1.1 and will be removed in version 1.3. Use `loss='log_loss'` which is equivalent.\n",
            "  warnings.warn(\n",
            "/usr/local/lib/python3.10/dist-packages/sklearn/linear_model/_stochastic_gradient.py:163: FutureWarning: The loss 'log' was deprecated in v1.1 and will be removed in version 1.3. Use `loss='log_loss'` which is equivalent.\n",
            "  warnings.warn(\n",
            "[I 2024-05-18 07:45:57,483] Trial 14 finished with value: 0.9516013809826749 and parameters: {'vectorizer': 'count', 'max_features': 4796, 'ngram_range': (1, 1), 'model': 'sgd', 'max_iter': 1057, 'alpha': 0.00012868465002269287, 'loss': 'log', 'penalty': 'l1'}. Best is trial 14 with value: 0.9516013809826749.\n",
            "/usr/local/lib/python3.10/dist-packages/optuna/distributions.py:524: UserWarning: Choices for a categorical distribution should be a tuple of None, bool, int, float and str for persistent storage but contains (1, 1) which is of type tuple.\n",
            "  warnings.warn(message)\n",
            "/usr/local/lib/python3.10/dist-packages/optuna/distributions.py:524: UserWarning: Choices for a categorical distribution should be a tuple of None, bool, int, float and str for persistent storage but contains (1, 2) which is of type tuple.\n",
            "  warnings.warn(message)\n",
            "/usr/local/lib/python3.10/dist-packages/optuna/distributions.py:524: UserWarning: Choices for a categorical distribution should be a tuple of None, bool, int, float and str for persistent storage but contains (1, 3) which is of type tuple.\n",
            "  warnings.warn(message)\n",
            "<ipython-input-43-a9e863e70c42>:17: FutureWarning: suggest_loguniform has been deprecated in v3.0.0. This feature will be removed in v6.0.0. See https://github.com/optuna/optuna/releases/tag/v3.0.0. Use suggest_float(..., log=True) instead.\n",
            "  alpha = trial.suggest_loguniform('alpha', 1e-5, 1e-1)\n",
            "/usr/local/lib/python3.10/dist-packages/sklearn/linear_model/_stochastic_gradient.py:163: FutureWarning: The loss 'log' was deprecated in v1.1 and will be removed in version 1.3. Use `loss='log_loss'` which is equivalent.\n",
            "  warnings.warn(\n",
            "/usr/local/lib/python3.10/dist-packages/sklearn/linear_model/_stochastic_gradient.py:163: FutureWarning: The loss 'log' was deprecated in v1.1 and will be removed in version 1.3. Use `loss='log_loss'` which is equivalent.\n",
            "  warnings.warn(\n",
            "/usr/local/lib/python3.10/dist-packages/sklearn/linear_model/_stochastic_gradient.py:163: FutureWarning: The loss 'log' was deprecated in v1.1 and will be removed in version 1.3. Use `loss='log_loss'` which is equivalent.\n",
            "  warnings.warn(\n",
            "[I 2024-05-18 07:46:21,873] Trial 15 finished with value: 0.9507690338197655 and parameters: {'vectorizer': 'count', 'max_features': 4871, 'ngram_range': (1, 1), 'model': 'sgd', 'max_iter': 984, 'alpha': 3.0950852945079787e-05, 'loss': 'log', 'penalty': 'l1'}. Best is trial 14 with value: 0.9516013809826749.\n",
            "/usr/local/lib/python3.10/dist-packages/optuna/distributions.py:524: UserWarning: Choices for a categorical distribution should be a tuple of None, bool, int, float and str for persistent storage but contains (1, 1) which is of type tuple.\n",
            "  warnings.warn(message)\n",
            "/usr/local/lib/python3.10/dist-packages/optuna/distributions.py:524: UserWarning: Choices for a categorical distribution should be a tuple of None, bool, int, float and str for persistent storage but contains (1, 2) which is of type tuple.\n",
            "  warnings.warn(message)\n",
            "/usr/local/lib/python3.10/dist-packages/optuna/distributions.py:524: UserWarning: Choices for a categorical distribution should be a tuple of None, bool, int, float and str for persistent storage but contains (1, 3) which is of type tuple.\n",
            "  warnings.warn(message)\n",
            "<ipython-input-43-a9e863e70c42>:17: FutureWarning: suggest_loguniform has been deprecated in v3.0.0. This feature will be removed in v6.0.0. See https://github.com/optuna/optuna/releases/tag/v3.0.0. Use suggest_float(..., log=True) instead.\n",
            "  alpha = trial.suggest_loguniform('alpha', 1e-5, 1e-1)\n",
            "/usr/local/lib/python3.10/dist-packages/sklearn/linear_model/_stochastic_gradient.py:163: FutureWarning: The loss 'log' was deprecated in v1.1 and will be removed in version 1.3. Use `loss='log_loss'` which is equivalent.\n",
            "  warnings.warn(\n",
            "/usr/local/lib/python3.10/dist-packages/sklearn/linear_model/_stochastic_gradient.py:163: FutureWarning: The loss 'log' was deprecated in v1.1 and will be removed in version 1.3. Use `loss='log_loss'` which is equivalent.\n",
            "  warnings.warn(\n",
            "/usr/local/lib/python3.10/dist-packages/sklearn/linear_model/_stochastic_gradient.py:163: FutureWarning: The loss 'log' was deprecated in v1.1 and will be removed in version 1.3. Use `loss='log_loss'` which is equivalent.\n",
            "  warnings.warn(\n",
            "[I 2024-05-18 07:46:47,651] Trial 16 finished with value: 0.9430395268983786 and parameters: {'vectorizer': 'count', 'max_features': 4925, 'ngram_range': (1, 1), 'model': 'sgd', 'max_iter': 1110, 'alpha': 1.0070073792770021e-05, 'loss': 'log', 'penalty': 'l1'}. Best is trial 14 with value: 0.9516013809826749.\n",
            "/usr/local/lib/python3.10/dist-packages/optuna/distributions.py:524: UserWarning: Choices for a categorical distribution should be a tuple of None, bool, int, float and str for persistent storage but contains (1, 1) which is of type tuple.\n",
            "  warnings.warn(message)\n",
            "/usr/local/lib/python3.10/dist-packages/optuna/distributions.py:524: UserWarning: Choices for a categorical distribution should be a tuple of None, bool, int, float and str for persistent storage but contains (1, 2) which is of type tuple.\n",
            "  warnings.warn(message)\n",
            "/usr/local/lib/python3.10/dist-packages/optuna/distributions.py:524: UserWarning: Choices for a categorical distribution should be a tuple of None, bool, int, float and str for persistent storage but contains (1, 3) which is of type tuple.\n",
            "  warnings.warn(message)\n",
            "<ipython-input-43-a9e863e70c42>:17: FutureWarning: suggest_loguniform has been deprecated in v3.0.0. This feature will be removed in v6.0.0. See https://github.com/optuna/optuna/releases/tag/v3.0.0. Use suggest_float(..., log=True) instead.\n",
            "  alpha = trial.suggest_loguniform('alpha', 1e-5, 1e-1)\n",
            "/usr/local/lib/python3.10/dist-packages/sklearn/linear_model/_stochastic_gradient.py:163: FutureWarning: The loss 'log' was deprecated in v1.1 and will be removed in version 1.3. Use `loss='log_loss'` which is equivalent.\n",
            "  warnings.warn(\n",
            "/usr/local/lib/python3.10/dist-packages/sklearn/linear_model/_stochastic_gradient.py:163: FutureWarning: The loss 'log' was deprecated in v1.1 and will be removed in version 1.3. Use `loss='log_loss'` which is equivalent.\n",
            "  warnings.warn(\n",
            "/usr/local/lib/python3.10/dist-packages/sklearn/linear_model/_stochastic_gradient.py:163: FutureWarning: The loss 'log' was deprecated in v1.1 and will be removed in version 1.3. Use `loss='log_loss'` which is equivalent.\n",
            "  warnings.warn(\n",
            "[I 2024-05-18 07:47:11,641] Trial 17 finished with value: 0.9294038383558147 and parameters: {'vectorizer': 'count', 'max_features': 4924, 'ngram_range': (1, 1), 'model': 'sgd', 'max_iter': 1004, 'alpha': 0.003217628900984909, 'loss': 'log', 'penalty': 'l1'}. Best is trial 14 with value: 0.9516013809826749.\n",
            "/usr/local/lib/python3.10/dist-packages/optuna/distributions.py:524: UserWarning: Choices for a categorical distribution should be a tuple of None, bool, int, float and str for persistent storage but contains (1, 1) which is of type tuple.\n",
            "  warnings.warn(message)\n",
            "/usr/local/lib/python3.10/dist-packages/optuna/distributions.py:524: UserWarning: Choices for a categorical distribution should be a tuple of None, bool, int, float and str for persistent storage but contains (1, 2) which is of type tuple.\n",
            "  warnings.warn(message)\n",
            "/usr/local/lib/python3.10/dist-packages/optuna/distributions.py:524: UserWarning: Choices for a categorical distribution should be a tuple of None, bool, int, float and str for persistent storage but contains (1, 3) which is of type tuple.\n",
            "  warnings.warn(message)\n",
            "<ipython-input-43-a9e863e70c42>:17: FutureWarning: suggest_loguniform has been deprecated in v3.0.0. This feature will be removed in v6.0.0. See https://github.com/optuna/optuna/releases/tag/v3.0.0. Use suggest_float(..., log=True) instead.\n",
            "  alpha = trial.suggest_loguniform('alpha', 1e-5, 1e-1)\n",
            "[I 2024-05-18 07:47:35,632] Trial 18 finished with value: 0.9436738292640516 and parameters: {'vectorizer': 'count', 'max_features': 4281, 'ngram_range': (1, 1), 'model': 'sgd', 'max_iter': 1429, 'alpha': 5.041196968558243e-05, 'loss': 'modified_huber', 'penalty': 'elasticnet'}. Best is trial 14 with value: 0.9516013809826749.\n",
            "/usr/local/lib/python3.10/dist-packages/optuna/distributions.py:524: UserWarning: Choices for a categorical distribution should be a tuple of None, bool, int, float and str for persistent storage but contains (1, 1) which is of type tuple.\n",
            "  warnings.warn(message)\n",
            "/usr/local/lib/python3.10/dist-packages/optuna/distributions.py:524: UserWarning: Choices for a categorical distribution should be a tuple of None, bool, int, float and str for persistent storage but contains (1, 2) which is of type tuple.\n",
            "  warnings.warn(message)\n",
            "/usr/local/lib/python3.10/dist-packages/optuna/distributions.py:524: UserWarning: Choices for a categorical distribution should be a tuple of None, bool, int, float and str for persistent storage but contains (1, 3) which is of type tuple.\n",
            "  warnings.warn(message)\n",
            "<ipython-input-43-a9e863e70c42>:17: FutureWarning: suggest_loguniform has been deprecated in v3.0.0. This feature will be removed in v6.0.0. See https://github.com/optuna/optuna/releases/tag/v3.0.0. Use suggest_float(..., log=True) instead.\n",
            "  alpha = trial.suggest_loguniform('alpha', 1e-5, 1e-1)\n",
            "[I 2024-05-18 07:48:00,530] Trial 19 finished with value: 0.9454574673616358 and parameters: {'vectorizer': 'count', 'max_features': 4283, 'ngram_range': (1, 1), 'model': 'sgd', 'max_iter': 615, 'alpha': 0.0014051287489251331, 'loss': 'hinge', 'penalty': 'l2'}. Best is trial 14 with value: 0.9516013809826749.\n",
            "/usr/local/lib/python3.10/dist-packages/optuna/distributions.py:524: UserWarning: Choices for a categorical distribution should be a tuple of None, bool, int, float and str for persistent storage but contains (1, 1) which is of type tuple.\n",
            "  warnings.warn(message)\n",
            "/usr/local/lib/python3.10/dist-packages/optuna/distributions.py:524: UserWarning: Choices for a categorical distribution should be a tuple of None, bool, int, float and str for persistent storage but contains (1, 2) which is of type tuple.\n",
            "  warnings.warn(message)\n",
            "/usr/local/lib/python3.10/dist-packages/optuna/distributions.py:524: UserWarning: Choices for a categorical distribution should be a tuple of None, bool, int, float and str for persistent storage but contains (1, 3) which is of type tuple.\n",
            "  warnings.warn(message)\n",
            "<ipython-input-43-a9e863e70c42>:17: FutureWarning: suggest_loguniform has been deprecated in v3.0.0. This feature will be removed in v6.0.0. See https://github.com/optuna/optuna/releases/tag/v3.0.0. Use suggest_float(..., log=True) instead.\n",
            "  alpha = trial.suggest_loguniform('alpha', 1e-5, 1e-1)\n",
            "/usr/local/lib/python3.10/dist-packages/sklearn/linear_model/_stochastic_gradient.py:163: FutureWarning: The loss 'log' was deprecated in v1.1 and will be removed in version 1.3. Use `loss='log_loss'` which is equivalent.\n",
            "  warnings.warn(\n",
            "/usr/local/lib/python3.10/dist-packages/sklearn/linear_model/_stochastic_gradient.py:163: FutureWarning: The loss 'log' was deprecated in v1.1 and will be removed in version 1.3. Use `loss='log_loss'` which is equivalent.\n",
            "  warnings.warn(\n",
            "/usr/local/lib/python3.10/dist-packages/sklearn/linear_model/_stochastic_gradient.py:163: FutureWarning: The loss 'log' was deprecated in v1.1 and will be removed in version 1.3. Use `loss='log_loss'` which is equivalent.\n",
            "  warnings.warn(\n",
            "[I 2024-05-18 07:48:25,145] Trial 20 finished with value: 0.9416125551455331 and parameters: {'vectorizer': 'count', 'max_features': 3825, 'ngram_range': (1, 1), 'model': 'sgd', 'max_iter': 1426, 'alpha': 0.00048809742498445523, 'loss': 'log', 'penalty': 'l1'}. Best is trial 14 with value: 0.9516013809826749.\n",
            "/usr/local/lib/python3.10/dist-packages/optuna/distributions.py:524: UserWarning: Choices for a categorical distribution should be a tuple of None, bool, int, float and str for persistent storage but contains (1, 1) which is of type tuple.\n",
            "  warnings.warn(message)\n",
            "/usr/local/lib/python3.10/dist-packages/optuna/distributions.py:524: UserWarning: Choices for a categorical distribution should be a tuple of None, bool, int, float and str for persistent storage but contains (1, 2) which is of type tuple.\n",
            "  warnings.warn(message)\n",
            "/usr/local/lib/python3.10/dist-packages/optuna/distributions.py:524: UserWarning: Choices for a categorical distribution should be a tuple of None, bool, int, float and str for persistent storage but contains (1, 3) which is of type tuple.\n",
            "  warnings.warn(message)\n",
            "<ipython-input-43-a9e863e70c42>:17: FutureWarning: suggest_loguniform has been deprecated in v3.0.0. This feature will be removed in v6.0.0. See https://github.com/optuna/optuna/releases/tag/v3.0.0. Use suggest_float(..., log=True) instead.\n",
            "  alpha = trial.suggest_loguniform('alpha', 1e-5, 1e-1)\n",
            "/usr/local/lib/python3.10/dist-packages/sklearn/linear_model/_stochastic_gradient.py:163: FutureWarning: The loss 'log' was deprecated in v1.1 and will be removed in version 1.3. Use `loss='log_loss'` which is equivalent.\n",
            "  warnings.warn(\n",
            "/usr/local/lib/python3.10/dist-packages/sklearn/linear_model/_stochastic_gradient.py:163: FutureWarning: The loss 'log' was deprecated in v1.1 and will be removed in version 1.3. Use `loss='log_loss'` which is equivalent.\n",
            "  warnings.warn(\n",
            "/usr/local/lib/python3.10/dist-packages/sklearn/linear_model/_stochastic_gradient.py:163: FutureWarning: The loss 'log' was deprecated in v1.1 and will be removed in version 1.3. Use `loss='log_loss'` which is equivalent.\n",
            "  warnings.warn(\n",
            "[I 2024-05-18 07:48:49,737] Trial 21 finished with value: 0.9529491762949376 and parameters: {'vectorizer': 'count', 'max_features': 4578, 'ngram_range': (1, 1), 'model': 'sgd', 'max_iter': 670, 'alpha': 5.522068837356436e-05, 'loss': 'log', 'penalty': 'l1'}. Best is trial 21 with value: 0.9529491762949376.\n",
            "/usr/local/lib/python3.10/dist-packages/optuna/distributions.py:524: UserWarning: Choices for a categorical distribution should be a tuple of None, bool, int, float and str for persistent storage but contains (1, 1) which is of type tuple.\n",
            "  warnings.warn(message)\n",
            "/usr/local/lib/python3.10/dist-packages/optuna/distributions.py:524: UserWarning: Choices for a categorical distribution should be a tuple of None, bool, int, float and str for persistent storage but contains (1, 2) which is of type tuple.\n",
            "  warnings.warn(message)\n",
            "/usr/local/lib/python3.10/dist-packages/optuna/distributions.py:524: UserWarning: Choices for a categorical distribution should be a tuple of None, bool, int, float and str for persistent storage but contains (1, 3) which is of type tuple.\n",
            "  warnings.warn(message)\n",
            "<ipython-input-43-a9e863e70c42>:17: FutureWarning: suggest_loguniform has been deprecated in v3.0.0. This feature will be removed in v6.0.0. See https://github.com/optuna/optuna/releases/tag/v3.0.0. Use suggest_float(..., log=True) instead.\n",
            "  alpha = trial.suggest_loguniform('alpha', 1e-5, 1e-1)\n",
            "/usr/local/lib/python3.10/dist-packages/sklearn/linear_model/_stochastic_gradient.py:163: FutureWarning: The loss 'log' was deprecated in v1.1 and will be removed in version 1.3. Use `loss='log_loss'` which is equivalent.\n",
            "  warnings.warn(\n",
            "/usr/local/lib/python3.10/dist-packages/sklearn/linear_model/_stochastic_gradient.py:163: FutureWarning: The loss 'log' was deprecated in v1.1 and will be removed in version 1.3. Use `loss='log_loss'` which is equivalent.\n",
            "  warnings.warn(\n",
            "/usr/local/lib/python3.10/dist-packages/sklearn/linear_model/_stochastic_gradient.py:163: FutureWarning: The loss 'log' was deprecated in v1.1 and will be removed in version 1.3. Use `loss='log_loss'` which is equivalent.\n",
            "  warnings.warn(\n",
            "[I 2024-05-18 07:49:14,068] Trial 22 finished with value: 0.9523942860420721 and parameters: {'vectorizer': 'count', 'max_features': 4641, 'ngram_range': (1, 1), 'model': 'sgd', 'max_iter': 645, 'alpha': 3.999850401945306e-05, 'loss': 'log', 'penalty': 'l1'}. Best is trial 21 with value: 0.9529491762949376.\n",
            "/usr/local/lib/python3.10/dist-packages/optuna/distributions.py:524: UserWarning: Choices for a categorical distribution should be a tuple of None, bool, int, float and str for persistent storage but contains (1, 1) which is of type tuple.\n",
            "  warnings.warn(message)\n",
            "/usr/local/lib/python3.10/dist-packages/optuna/distributions.py:524: UserWarning: Choices for a categorical distribution should be a tuple of None, bool, int, float and str for persistent storage but contains (1, 2) which is of type tuple.\n",
            "  warnings.warn(message)\n",
            "/usr/local/lib/python3.10/dist-packages/optuna/distributions.py:524: UserWarning: Choices for a categorical distribution should be a tuple of None, bool, int, float and str for persistent storage but contains (1, 3) which is of type tuple.\n",
            "  warnings.warn(message)\n",
            "<ipython-input-43-a9e863e70c42>:17: FutureWarning: suggest_loguniform has been deprecated in v3.0.0. This feature will be removed in v6.0.0. See https://github.com/optuna/optuna/releases/tag/v3.0.0. Use suggest_float(..., log=True) instead.\n",
            "  alpha = trial.suggest_loguniform('alpha', 1e-5, 1e-1)\n",
            "/usr/local/lib/python3.10/dist-packages/sklearn/linear_model/_stochastic_gradient.py:163: FutureWarning: The loss 'log' was deprecated in v1.1 and will be removed in version 1.3. Use `loss='log_loss'` which is equivalent.\n",
            "  warnings.warn(\n",
            "/usr/local/lib/python3.10/dist-packages/sklearn/linear_model/_stochastic_gradient.py:163: FutureWarning: The loss 'log' was deprecated in v1.1 and will be removed in version 1.3. Use `loss='log_loss'` which is equivalent.\n",
            "  warnings.warn(\n",
            "/usr/local/lib/python3.10/dist-packages/sklearn/linear_model/_stochastic_gradient.py:163: FutureWarning: The loss 'log' was deprecated in v1.1 and will be removed in version 1.3. Use `loss='log_loss'` which is equivalent.\n",
            "  warnings.warn(\n",
            "[I 2024-05-18 07:49:37,510] Trial 23 finished with value: 0.9531869789964671 and parameters: {'vectorizer': 'count', 'max_features': 4467, 'ngram_range': (1, 1), 'model': 'sgd', 'max_iter': 621, 'alpha': 5.797937980933597e-05, 'loss': 'log', 'penalty': 'l1'}. Best is trial 23 with value: 0.9531869789964671.\n",
            "/usr/local/lib/python3.10/dist-packages/optuna/distributions.py:524: UserWarning: Choices for a categorical distribution should be a tuple of None, bool, int, float and str for persistent storage but contains (1, 1) which is of type tuple.\n",
            "  warnings.warn(message)\n",
            "/usr/local/lib/python3.10/dist-packages/optuna/distributions.py:524: UserWarning: Choices for a categorical distribution should be a tuple of None, bool, int, float and str for persistent storage but contains (1, 2) which is of type tuple.\n",
            "  warnings.warn(message)\n",
            "/usr/local/lib/python3.10/dist-packages/optuna/distributions.py:524: UserWarning: Choices for a categorical distribution should be a tuple of None, bool, int, float and str for persistent storage but contains (1, 3) which is of type tuple.\n",
            "  warnings.warn(message)\n",
            "<ipython-input-43-a9e863e70c42>:17: FutureWarning: suggest_loguniform has been deprecated in v3.0.0. This feature will be removed in v6.0.0. See https://github.com/optuna/optuna/releases/tag/v3.0.0. Use suggest_float(..., log=True) instead.\n",
            "  alpha = trial.suggest_loguniform('alpha', 1e-5, 1e-1)\n",
            "/usr/local/lib/python3.10/dist-packages/sklearn/linear_model/_stochastic_gradient.py:163: FutureWarning: The loss 'log' was deprecated in v1.1 and will be removed in version 1.3. Use `loss='log_loss'` which is equivalent.\n",
            "  warnings.warn(\n",
            "/usr/local/lib/python3.10/dist-packages/sklearn/linear_model/_stochastic_gradient.py:163: FutureWarning: The loss 'log' was deprecated in v1.1 and will be removed in version 1.3. Use `loss='log_loss'` which is equivalent.\n",
            "  warnings.warn(\n",
            "/usr/local/lib/python3.10/dist-packages/sklearn/linear_model/_stochastic_gradient.py:163: FutureWarning: The loss 'log' was deprecated in v1.1 and will be removed in version 1.3. Use `loss='log_loss'` which is equivalent.\n",
            "  warnings.warn(\n",
            "[I 2024-05-18 07:50:01,371] Trial 24 finished with value: 0.949579869481894 and parameters: {'vectorizer': 'count', 'max_features': 4480, 'ngram_range': (1, 1), 'model': 'sgd', 'max_iter': 570, 'alpha': 3.084563442143002e-05, 'loss': 'log', 'penalty': 'l1'}. Best is trial 23 with value: 0.9531869789964671.\n",
            "/usr/local/lib/python3.10/dist-packages/optuna/distributions.py:524: UserWarning: Choices for a categorical distribution should be a tuple of None, bool, int, float and str for persistent storage but contains (1, 1) which is of type tuple.\n",
            "  warnings.warn(message)\n",
            "/usr/local/lib/python3.10/dist-packages/optuna/distributions.py:524: UserWarning: Choices for a categorical distribution should be a tuple of None, bool, int, float and str for persistent storage but contains (1, 2) which is of type tuple.\n",
            "  warnings.warn(message)\n",
            "/usr/local/lib/python3.10/dist-packages/optuna/distributions.py:524: UserWarning: Choices for a categorical distribution should be a tuple of None, bool, int, float and str for persistent storage but contains (1, 3) which is of type tuple.\n",
            "  warnings.warn(message)\n",
            "<ipython-input-43-a9e863e70c42>:17: FutureWarning: suggest_loguniform has been deprecated in v3.0.0. This feature will be removed in v6.0.0. See https://github.com/optuna/optuna/releases/tag/v3.0.0. Use suggest_float(..., log=True) instead.\n",
            "  alpha = trial.suggest_loguniform('alpha', 1e-5, 1e-1)\n",
            "/usr/local/lib/python3.10/dist-packages/sklearn/linear_model/_stochastic_gradient.py:163: FutureWarning: The loss 'log' was deprecated in v1.1 and will be removed in version 1.3. Use `loss='log_loss'` which is equivalent.\n",
            "  warnings.warn(\n",
            "/usr/local/lib/python3.10/dist-packages/sklearn/linear_model/_stochastic_gradient.py:163: FutureWarning: The loss 'log' was deprecated in v1.1 and will be removed in version 1.3. Use `loss='log_loss'` which is equivalent.\n",
            "  warnings.warn(\n",
            "/usr/local/lib/python3.10/dist-packages/sklearn/linear_model/_stochastic_gradient.py:163: FutureWarning: The loss 'log' was deprecated in v1.1 and will be removed in version 1.3. Use `loss='log_loss'` which is equivalent.\n",
            "  warnings.warn(\n",
            "[I 2024-05-18 07:50:28,654] Trial 25 finished with value: 0.9490249650886949 and parameters: {'vectorizer': 'count', 'max_features': 3909, 'ngram_range': (1, 1), 'model': 'sgd', 'max_iter': 598, 'alpha': 2.9020301442150243e-05, 'loss': 'log', 'penalty': 'l1'}. Best is trial 23 with value: 0.9531869789964671.\n",
            "/usr/local/lib/python3.10/dist-packages/optuna/distributions.py:524: UserWarning: Choices for a categorical distribution should be a tuple of None, bool, int, float and str for persistent storage but contains (1, 1) which is of type tuple.\n",
            "  warnings.warn(message)\n",
            "/usr/local/lib/python3.10/dist-packages/optuna/distributions.py:524: UserWarning: Choices for a categorical distribution should be a tuple of None, bool, int, float and str for persistent storage but contains (1, 2) which is of type tuple.\n",
            "  warnings.warn(message)\n",
            "/usr/local/lib/python3.10/dist-packages/optuna/distributions.py:524: UserWarning: Choices for a categorical distribution should be a tuple of None, bool, int, float and str for persistent storage but contains (1, 3) which is of type tuple.\n",
            "  warnings.warn(message)\n",
            "<ipython-input-43-a9e863e70c42>:17: FutureWarning: suggest_loguniform has been deprecated in v3.0.0. This feature will be removed in v6.0.0. See https://github.com/optuna/optuna/releases/tag/v3.0.0. Use suggest_float(..., log=True) instead.\n",
            "  alpha = trial.suggest_loguniform('alpha', 1e-5, 1e-1)\n",
            "[I 2024-05-18 07:50:53,056] Trial 26 finished with value: 0.9545346658995064 and parameters: {'vectorizer': 'count', 'max_features': 4542, 'ngram_range': (1, 1), 'model': 'sgd', 'max_iter': 715, 'alpha': 0.0005534273322357197, 'loss': 'modified_huber', 'penalty': 'elasticnet'}. Best is trial 26 with value: 0.9545346658995064.\n",
            "/usr/local/lib/python3.10/dist-packages/optuna/distributions.py:524: UserWarning: Choices for a categorical distribution should be a tuple of None, bool, int, float and str for persistent storage but contains (1, 1) which is of type tuple.\n",
            "  warnings.warn(message)\n",
            "/usr/local/lib/python3.10/dist-packages/optuna/distributions.py:524: UserWarning: Choices for a categorical distribution should be a tuple of None, bool, int, float and str for persistent storage but contains (1, 2) which is of type tuple.\n",
            "  warnings.warn(message)\n",
            "/usr/local/lib/python3.10/dist-packages/optuna/distributions.py:524: UserWarning: Choices for a categorical distribution should be a tuple of None, bool, int, float and str for persistent storage but contains (1, 3) which is of type tuple.\n",
            "  warnings.warn(message)\n",
            "<ipython-input-43-a9e863e70c42>:17: FutureWarning: suggest_loguniform has been deprecated in v3.0.0. This feature will be removed in v6.0.0. See https://github.com/optuna/optuna/releases/tag/v3.0.0. Use suggest_float(..., log=True) instead.\n",
            "  alpha = trial.suggest_loguniform('alpha', 1e-5, 1e-1)\n",
            "[I 2024-05-18 07:51:17,491] Trial 27 finished with value: 0.9405422026029808 and parameters: {'vectorizer': 'count', 'max_features': 3617, 'ngram_range': (1, 1), 'model': 'sgd', 'max_iter': 759, 'alpha': 0.0057632056221747895, 'loss': 'modified_huber', 'penalty': 'elasticnet'}. Best is trial 26 with value: 0.9545346658995064.\n",
            "/usr/local/lib/python3.10/dist-packages/optuna/distributions.py:524: UserWarning: Choices for a categorical distribution should be a tuple of None, bool, int, float and str for persistent storage but contains (1, 1) which is of type tuple.\n",
            "  warnings.warn(message)\n",
            "/usr/local/lib/python3.10/dist-packages/optuna/distributions.py:524: UserWarning: Choices for a categorical distribution should be a tuple of None, bool, int, float and str for persistent storage but contains (1, 2) which is of type tuple.\n",
            "  warnings.warn(message)\n",
            "/usr/local/lib/python3.10/dist-packages/optuna/distributions.py:524: UserWarning: Choices for a categorical distribution should be a tuple of None, bool, int, float and str for persistent storage but contains (1, 3) which is of type tuple.\n",
            "  warnings.warn(message)\n",
            "[I 2024-05-18 07:51:43,557] Trial 28 finished with value: 0.929364198287634 and parameters: {'vectorizer': 'count', 'max_features': 3156, 'ngram_range': (1, 2), 'model': 'rf', 'n_estimators': 52, 'max_depth': 3}. Best is trial 26 with value: 0.9545346658995064.\n",
            "/usr/local/lib/python3.10/dist-packages/optuna/distributions.py:524: UserWarning: Choices for a categorical distribution should be a tuple of None, bool, int, float and str for persistent storage but contains (1, 1) which is of type tuple.\n",
            "  warnings.warn(message)\n",
            "/usr/local/lib/python3.10/dist-packages/optuna/distributions.py:524: UserWarning: Choices for a categorical distribution should be a tuple of None, bool, int, float and str for persistent storage but contains (1, 2) which is of type tuple.\n",
            "  warnings.warn(message)\n",
            "/usr/local/lib/python3.10/dist-packages/optuna/distributions.py:524: UserWarning: Choices for a categorical distribution should be a tuple of None, bool, int, float and str for persistent storage but contains (1, 3) which is of type tuple.\n",
            "  warnings.warn(message)\n",
            "<ipython-input-43-a9e863e70c42>:17: FutureWarning: suggest_loguniform has been deprecated in v3.0.0. This feature will be removed in v6.0.0. See https://github.com/optuna/optuna/releases/tag/v3.0.0. Use suggest_float(..., log=True) instead.\n",
            "  alpha = trial.suggest_loguniform('alpha', 1e-5, 1e-1)\n",
            "[I 2024-05-18 07:52:06,789] Trial 29 finished with value: 0.9557237972432665 and parameters: {'vectorizer': 'count', 'max_features': 4455, 'ngram_range': (1, 1), 'model': 'sgd', 'max_iter': 407, 'alpha': 0.0003707384093093721, 'loss': 'modified_huber', 'penalty': 'elasticnet'}. Best is trial 29 with value: 0.9557237972432665.\n",
            "/usr/local/lib/python3.10/dist-packages/optuna/distributions.py:524: UserWarning: Choices for a categorical distribution should be a tuple of None, bool, int, float and str for persistent storage but contains (1, 1) which is of type tuple.\n",
            "  warnings.warn(message)\n",
            "/usr/local/lib/python3.10/dist-packages/optuna/distributions.py:524: UserWarning: Choices for a categorical distribution should be a tuple of None, bool, int, float and str for persistent storage but contains (1, 2) which is of type tuple.\n",
            "  warnings.warn(message)\n",
            "/usr/local/lib/python3.10/dist-packages/optuna/distributions.py:524: UserWarning: Choices for a categorical distribution should be a tuple of None, bool, int, float and str for persistent storage but contains (1, 3) which is of type tuple.\n",
            "  warnings.warn(message)\n",
            "<ipython-input-43-a9e863e70c42>:17: FutureWarning: suggest_loguniform has been deprecated in v3.0.0. This feature will be removed in v6.0.0. See https://github.com/optuna/optuna/releases/tag/v3.0.0. Use suggest_float(..., log=True) instead.\n",
            "  alpha = trial.suggest_loguniform('alpha', 1e-5, 1e-1)\n",
            "[I 2024-05-18 07:52:34,523] Trial 30 finished with value: 0.9508879681646417 and parameters: {'vectorizer': 'count', 'max_features': 3351, 'ngram_range': (1, 3), 'model': 'sgd', 'max_iter': 414, 'alpha': 0.0007713898397695905, 'loss': 'modified_huber', 'penalty': 'elasticnet'}. Best is trial 29 with value: 0.9557237972432665.\n",
            "/usr/local/lib/python3.10/dist-packages/optuna/distributions.py:524: UserWarning: Choices for a categorical distribution should be a tuple of None, bool, int, float and str for persistent storage but contains (1, 1) which is of type tuple.\n",
            "  warnings.warn(message)\n",
            "/usr/local/lib/python3.10/dist-packages/optuna/distributions.py:524: UserWarning: Choices for a categorical distribution should be a tuple of None, bool, int, float and str for persistent storage but contains (1, 2) which is of type tuple.\n",
            "  warnings.warn(message)\n",
            "/usr/local/lib/python3.10/dist-packages/optuna/distributions.py:524: UserWarning: Choices for a categorical distribution should be a tuple of None, bool, int, float and str for persistent storage but contains (1, 3) which is of type tuple.\n",
            "  warnings.warn(message)\n",
            "<ipython-input-43-a9e863e70c42>:17: FutureWarning: suggest_loguniform has been deprecated in v3.0.0. This feature will be removed in v6.0.0. See https://github.com/optuna/optuna/releases/tag/v3.0.0. Use suggest_float(..., log=True) instead.\n",
            "  alpha = trial.suggest_loguniform('alpha', 1e-5, 1e-1)\n",
            "[I 2024-05-18 07:52:59,422] Trial 31 finished with value: 0.9543761103402272 and parameters: {'vectorizer': 'count', 'max_features': 4503, 'ngram_range': (1, 1), 'model': 'sgd', 'max_iter': 414, 'alpha': 0.0005389230347303851, 'loss': 'modified_huber', 'penalty': 'elasticnet'}. Best is trial 29 with value: 0.9557237972432665.\n",
            "/usr/local/lib/python3.10/dist-packages/optuna/distributions.py:524: UserWarning: Choices for a categorical distribution should be a tuple of None, bool, int, float and str for persistent storage but contains (1, 1) which is of type tuple.\n",
            "  warnings.warn(message)\n",
            "/usr/local/lib/python3.10/dist-packages/optuna/distributions.py:524: UserWarning: Choices for a categorical distribution should be a tuple of None, bool, int, float and str for persistent storage but contains (1, 2) which is of type tuple.\n",
            "  warnings.warn(message)\n",
            "/usr/local/lib/python3.10/dist-packages/optuna/distributions.py:524: UserWarning: Choices for a categorical distribution should be a tuple of None, bool, int, float and str for persistent storage but contains (1, 3) which is of type tuple.\n",
            "  warnings.warn(message)\n",
            "<ipython-input-43-a9e863e70c42>:17: FutureWarning: suggest_loguniform has been deprecated in v3.0.0. This feature will be removed in v6.0.0. See https://github.com/optuna/optuna/releases/tag/v3.0.0. Use suggest_float(..., log=True) instead.\n",
            "  alpha = trial.suggest_loguniform('alpha', 1e-5, 1e-1)\n",
            "[I 2024-05-18 07:53:23,352] Trial 32 finished with value: 0.9556445218203492 and parameters: {'vectorizer': 'count', 'max_features': 4294, 'ngram_range': (1, 1), 'model': 'sgd', 'max_iter': 403, 'alpha': 0.00035757839902901724, 'loss': 'modified_huber', 'penalty': 'elasticnet'}. Best is trial 29 with value: 0.9557237972432665.\n",
            "/usr/local/lib/python3.10/dist-packages/optuna/distributions.py:524: UserWarning: Choices for a categorical distribution should be a tuple of None, bool, int, float and str for persistent storage but contains (1, 1) which is of type tuple.\n",
            "  warnings.warn(message)\n",
            "/usr/local/lib/python3.10/dist-packages/optuna/distributions.py:524: UserWarning: Choices for a categorical distribution should be a tuple of None, bool, int, float and str for persistent storage but contains (1, 2) which is of type tuple.\n",
            "  warnings.warn(message)\n",
            "/usr/local/lib/python3.10/dist-packages/optuna/distributions.py:524: UserWarning: Choices for a categorical distribution should be a tuple of None, bool, int, float and str for persistent storage but contains (1, 3) which is of type tuple.\n",
            "  warnings.warn(message)\n",
            "<ipython-input-43-a9e863e70c42>:17: FutureWarning: suggest_loguniform has been deprecated in v3.0.0. This feature will be removed in v6.0.0. See https://github.com/optuna/optuna/releases/tag/v3.0.0. Use suggest_float(..., log=True) instead.\n",
            "  alpha = trial.suggest_loguniform('alpha', 1e-5, 1e-1)\n",
            "[I 2024-05-18 07:53:49,333] Trial 33 finished with value: 0.9548121510902173 and parameters: {'vectorizer': 'count', 'max_features': 4092, 'ngram_range': (1, 1), 'model': 'sgd', 'max_iter': 467, 'alpha': 0.0004536145000515633, 'loss': 'modified_huber', 'penalty': 'elasticnet'}. Best is trial 29 with value: 0.9557237972432665.\n",
            "/usr/local/lib/python3.10/dist-packages/optuna/distributions.py:524: UserWarning: Choices for a categorical distribution should be a tuple of None, bool, int, float and str for persistent storage but contains (1, 1) which is of type tuple.\n",
            "  warnings.warn(message)\n",
            "/usr/local/lib/python3.10/dist-packages/optuna/distributions.py:524: UserWarning: Choices for a categorical distribution should be a tuple of None, bool, int, float and str for persistent storage but contains (1, 2) which is of type tuple.\n",
            "  warnings.warn(message)\n",
            "/usr/local/lib/python3.10/dist-packages/optuna/distributions.py:524: UserWarning: Choices for a categorical distribution should be a tuple of None, bool, int, float and str for persistent storage but contains (1, 3) which is of type tuple.\n",
            "  warnings.warn(message)\n",
            "<ipython-input-43-a9e863e70c42>:17: FutureWarning: suggest_loguniform has been deprecated in v3.0.0. This feature will be removed in v6.0.0. See https://github.com/optuna/optuna/releases/tag/v3.0.0. Use suggest_float(..., log=True) instead.\n",
            "  alpha = trial.suggest_loguniform('alpha', 1e-5, 1e-1)\n",
            "[I 2024-05-18 07:54:13,889] Trial 34 finished with value: 0.9550499585051915 and parameters: {'vectorizer': 'count', 'max_features': 3904, 'ngram_range': (1, 1), 'model': 'sgd', 'max_iter': 389, 'alpha': 0.0003265320073516744, 'loss': 'modified_huber', 'penalty': 'elasticnet'}. Best is trial 29 with value: 0.9557237972432665.\n",
            "/usr/local/lib/python3.10/dist-packages/optuna/distributions.py:524: UserWarning: Choices for a categorical distribution should be a tuple of None, bool, int, float and str for persistent storage but contains (1, 1) which is of type tuple.\n",
            "  warnings.warn(message)\n",
            "/usr/local/lib/python3.10/dist-packages/optuna/distributions.py:524: UserWarning: Choices for a categorical distribution should be a tuple of None, bool, int, float and str for persistent storage but contains (1, 2) which is of type tuple.\n",
            "  warnings.warn(message)\n",
            "/usr/local/lib/python3.10/dist-packages/optuna/distributions.py:524: UserWarning: Choices for a categorical distribution should be a tuple of None, bool, int, float and str for persistent storage but contains (1, 3) which is of type tuple.\n",
            "  warnings.warn(message)\n",
            "<ipython-input-43-a9e863e70c42>:17: FutureWarning: suggest_loguniform has been deprecated in v3.0.0. This feature will be removed in v6.0.0. See https://github.com/optuna/optuna/releases/tag/v3.0.0. Use suggest_float(..., log=True) instead.\n",
            "  alpha = trial.suggest_loguniform('alpha', 1e-5, 1e-1)\n",
            "[I 2024-05-18 07:54:38,169] Trial 35 finished with value: 0.9484303593525367 and parameters: {'vectorizer': 'count', 'max_features': 3646, 'ngram_range': (1, 1), 'model': 'sgd', 'max_iter': 364, 'alpha': 0.0016567188189027077, 'loss': 'modified_huber', 'penalty': 'elasticnet'}. Best is trial 29 with value: 0.9557237972432665.\n",
            "/usr/local/lib/python3.10/dist-packages/optuna/distributions.py:524: UserWarning: Choices for a categorical distribution should be a tuple of None, bool, int, float and str for persistent storage but contains (1, 1) which is of type tuple.\n",
            "  warnings.warn(message)\n",
            "/usr/local/lib/python3.10/dist-packages/optuna/distributions.py:524: UserWarning: Choices for a categorical distribution should be a tuple of None, bool, int, float and str for persistent storage but contains (1, 2) which is of type tuple.\n",
            "  warnings.warn(message)\n",
            "/usr/local/lib/python3.10/dist-packages/optuna/distributions.py:524: UserWarning: Choices for a categorical distribution should be a tuple of None, bool, int, float and str for persistent storage but contains (1, 3) which is of type tuple.\n",
            "  warnings.warn(message)\n",
            "<ipython-input-43-a9e863e70c42>:22: FutureWarning: suggest_loguniform has been deprecated in v3.0.0. This feature will be removed in v6.0.0. See https://github.com/optuna/optuna/releases/tag/v3.0.0. Use suggest_float(..., log=True) instead.\n",
            "  alpha = trial.suggest_loguniform('nb_alpha', 1e-3, 1e0)\n",
            "[I 2024-05-18 07:55:00,966] Trial 36 finished with value: 0.9429205029980571 and parameters: {'vectorizer': 'count', 'max_features': 2726, 'ngram_range': (1, 1), 'model': 'nb', 'nb_alpha': 0.0011565299044835138}. Best is trial 29 with value: 0.9557237972432665.\n",
            "/usr/local/lib/python3.10/dist-packages/optuna/distributions.py:524: UserWarning: Choices for a categorical distribution should be a tuple of None, bool, int, float and str for persistent storage but contains (1, 1) which is of type tuple.\n",
            "  warnings.warn(message)\n",
            "/usr/local/lib/python3.10/dist-packages/optuna/distributions.py:524: UserWarning: Choices for a categorical distribution should be a tuple of None, bool, int, float and str for persistent storage but contains (1, 2) which is of type tuple.\n",
            "  warnings.warn(message)\n",
            "/usr/local/lib/python3.10/dist-packages/optuna/distributions.py:524: UserWarning: Choices for a categorical distribution should be a tuple of None, bool, int, float and str for persistent storage but contains (1, 3) which is of type tuple.\n",
            "  warnings.warn(message)\n",
            "[I 2024-05-18 07:55:28,483] Trial 37 finished with value: 0.9348739462328903 and parameters: {'vectorizer': 'count', 'max_features': 4100, 'ngram_range': (1, 2), 'model': 'rf', 'n_estimators': 74, 'max_depth': 10}. Best is trial 29 with value: 0.9557237972432665.\n",
            "/usr/local/lib/python3.10/dist-packages/optuna/distributions.py:524: UserWarning: Choices for a categorical distribution should be a tuple of None, bool, int, float and str for persistent storage but contains (1, 1) which is of type tuple.\n",
            "  warnings.warn(message)\n",
            "/usr/local/lib/python3.10/dist-packages/optuna/distributions.py:524: UserWarning: Choices for a categorical distribution should be a tuple of None, bool, int, float and str for persistent storage but contains (1, 2) which is of type tuple.\n",
            "  warnings.warn(message)\n",
            "/usr/local/lib/python3.10/dist-packages/optuna/distributions.py:524: UserWarning: Choices for a categorical distribution should be a tuple of None, bool, int, float and str for persistent storage but contains (1, 3) which is of type tuple.\n",
            "  warnings.warn(message)\n",
            "<ipython-input-43-a9e863e70c42>:17: FutureWarning: suggest_loguniform has been deprecated in v3.0.0. This feature will be removed in v6.0.0. See https://github.com/optuna/optuna/releases/tag/v3.0.0. Use suggest_float(..., log=True) instead.\n",
            "  alpha = trial.suggest_loguniform('alpha', 1e-5, 1e-1)\n",
            "[I 2024-05-18 07:55:53,607] Trial 38 finished with value: 0.9539797709331964 and parameters: {'vectorizer': 'count', 'max_features': 3351, 'ngram_range': (1, 1), 'model': 'sgd', 'max_iter': 114, 'alpha': 0.00029979609601874543, 'loss': 'modified_huber', 'penalty': 'elasticnet'}. Best is trial 29 with value: 0.9557237972432665.\n",
            "/usr/local/lib/python3.10/dist-packages/optuna/distributions.py:524: UserWarning: Choices for a categorical distribution should be a tuple of None, bool, int, float and str for persistent storage but contains (1, 1) which is of type tuple.\n",
            "  warnings.warn(message)\n",
            "/usr/local/lib/python3.10/dist-packages/optuna/distributions.py:524: UserWarning: Choices for a categorical distribution should be a tuple of None, bool, int, float and str for persistent storage but contains (1, 2) which is of type tuple.\n",
            "  warnings.warn(message)\n",
            "/usr/local/lib/python3.10/dist-packages/optuna/distributions.py:524: UserWarning: Choices for a categorical distribution should be a tuple of None, bool, int, float and str for persistent storage but contains (1, 3) which is of type tuple.\n",
            "  warnings.warn(message)\n",
            "<ipython-input-43-a9e863e70c42>:22: FutureWarning: suggest_loguniform has been deprecated in v3.0.0. This feature will be removed in v6.0.0. See https://github.com/optuna/optuna/releases/tag/v3.0.0. Use suggest_float(..., log=True) instead.\n",
            "  alpha = trial.suggest_loguniform('nb_alpha', 1e-3, 1e0)\n",
            "[I 2024-05-18 07:56:21,091] Trial 39 finished with value: 0.9529491951487156 and parameters: {'vectorizer': 'tfidf', 'max_features': 3939, 'ngram_range': (1, 3), 'model': 'nb', 'nb_alpha': 0.00908405745281422}. Best is trial 29 with value: 0.9557237972432665.\n",
            "/usr/local/lib/python3.10/dist-packages/optuna/distributions.py:524: UserWarning: Choices for a categorical distribution should be a tuple of None, bool, int, float and str for persistent storage but contains (1, 1) which is of type tuple.\n",
            "  warnings.warn(message)\n",
            "/usr/local/lib/python3.10/dist-packages/optuna/distributions.py:524: UserWarning: Choices for a categorical distribution should be a tuple of None, bool, int, float and str for persistent storage but contains (1, 2) which is of type tuple.\n",
            "  warnings.warn(message)\n",
            "/usr/local/lib/python3.10/dist-packages/optuna/distributions.py:524: UserWarning: Choices for a categorical distribution should be a tuple of None, bool, int, float and str for persistent storage but contains (1, 3) which is of type tuple.\n",
            "  warnings.warn(message)\n",
            "<ipython-input-43-a9e863e70c42>:17: FutureWarning: suggest_loguniform has been deprecated in v3.0.0. This feature will be removed in v6.0.0. See https://github.com/optuna/optuna/releases/tag/v3.0.0. Use suggest_float(..., log=True) instead.\n",
            "  alpha = trial.suggest_loguniform('alpha', 1e-5, 1e-1)\n",
            "[I 2024-05-18 07:56:47,135] Trial 40 finished with value: 0.9442286441018052 and parameters: {'vectorizer': 'count', 'max_features': 3021, 'ngram_range': (1, 2), 'model': 'sgd', 'max_iter': 461, 'alpha': 0.0034949323841949615, 'loss': 'modified_huber', 'penalty': 'elasticnet'}. Best is trial 29 with value: 0.9557237972432665.\n",
            "/usr/local/lib/python3.10/dist-packages/optuna/distributions.py:524: UserWarning: Choices for a categorical distribution should be a tuple of None, bool, int, float and str for persistent storage but contains (1, 1) which is of type tuple.\n",
            "  warnings.warn(message)\n",
            "/usr/local/lib/python3.10/dist-packages/optuna/distributions.py:524: UserWarning: Choices for a categorical distribution should be a tuple of None, bool, int, float and str for persistent storage but contains (1, 2) which is of type tuple.\n",
            "  warnings.warn(message)\n",
            "/usr/local/lib/python3.10/dist-packages/optuna/distributions.py:524: UserWarning: Choices for a categorical distribution should be a tuple of None, bool, int, float and str for persistent storage but contains (1, 3) which is of type tuple.\n",
            "  warnings.warn(message)\n",
            "<ipython-input-43-a9e863e70c42>:17: FutureWarning: suggest_loguniform has been deprecated in v3.0.0. This feature will be removed in v6.0.0. See https://github.com/optuna/optuna/releases/tag/v3.0.0. Use suggest_float(..., log=True) instead.\n",
            "  alpha = trial.suggest_loguniform('alpha', 1e-5, 1e-1)\n",
            "[I 2024-05-18 07:57:12,824] Trial 41 finished with value: 0.9554859568341811 and parameters: {'vectorizer': 'count', 'max_features': 4204, 'ngram_range': (1, 1), 'model': 'sgd', 'max_iter': 861, 'alpha': 0.0003675197915193103, 'loss': 'modified_huber', 'penalty': 'elasticnet'}. Best is trial 29 with value: 0.9557237972432665.\n",
            "/usr/local/lib/python3.10/dist-packages/optuna/distributions.py:524: UserWarning: Choices for a categorical distribution should be a tuple of None, bool, int, float and str for persistent storage but contains (1, 1) which is of type tuple.\n",
            "  warnings.warn(message)\n",
            "/usr/local/lib/python3.10/dist-packages/optuna/distributions.py:524: UserWarning: Choices for a categorical distribution should be a tuple of None, bool, int, float and str for persistent storage but contains (1, 2) which is of type tuple.\n",
            "  warnings.warn(message)\n",
            "/usr/local/lib/python3.10/dist-packages/optuna/distributions.py:524: UserWarning: Choices for a categorical distribution should be a tuple of None, bool, int, float and str for persistent storage but contains (1, 3) which is of type tuple.\n",
            "  warnings.warn(message)\n",
            "<ipython-input-43-a9e863e70c42>:17: FutureWarning: suggest_loguniform has been deprecated in v3.0.0. This feature will be removed in v6.0.0. See https://github.com/optuna/optuna/releases/tag/v3.0.0. Use suggest_float(..., log=True) instead.\n",
            "  alpha = trial.suggest_loguniform('alpha', 1e-5, 1e-1)\n",
            "[I 2024-05-18 07:57:37,221] Trial 42 finished with value: 0.955089612713706 and parameters: {'vectorizer': 'count', 'max_features': 4197, 'ngram_range': (1, 1), 'model': 'sgd', 'max_iter': 273, 'alpha': 0.00028863592920349743, 'loss': 'modified_huber', 'penalty': 'elasticnet'}. Best is trial 29 with value: 0.9557237972432665.\n",
            "/usr/local/lib/python3.10/dist-packages/optuna/distributions.py:524: UserWarning: Choices for a categorical distribution should be a tuple of None, bool, int, float and str for persistent storage but contains (1, 1) which is of type tuple.\n",
            "  warnings.warn(message)\n",
            "/usr/local/lib/python3.10/dist-packages/optuna/distributions.py:524: UserWarning: Choices for a categorical distribution should be a tuple of None, bool, int, float and str for persistent storage but contains (1, 2) which is of type tuple.\n",
            "  warnings.warn(message)\n",
            "/usr/local/lib/python3.10/dist-packages/optuna/distributions.py:524: UserWarning: Choices for a categorical distribution should be a tuple of None, bool, int, float and str for persistent storage but contains (1, 3) which is of type tuple.\n",
            "  warnings.warn(message)\n",
            "<ipython-input-43-a9e863e70c42>:17: FutureWarning: suggest_loguniform has been deprecated in v3.0.0. This feature will be removed in v6.0.0. See https://github.com/optuna/optuna/releases/tag/v3.0.0. Use suggest_float(..., log=True) instead.\n",
            "  alpha = trial.suggest_loguniform('alpha', 1e-5, 1e-1)\n",
            "[I 2024-05-18 07:58:02,614] Trial 43 finished with value: 0.9551292197877753 and parameters: {'vectorizer': 'count', 'max_features': 4277, 'ngram_range': (1, 1), 'model': 'sgd', 'max_iter': 276, 'alpha': 0.0002706208666023359, 'loss': 'modified_huber', 'penalty': 'elasticnet'}. Best is trial 29 with value: 0.9557237972432665.\n",
            "/usr/local/lib/python3.10/dist-packages/optuna/distributions.py:524: UserWarning: Choices for a categorical distribution should be a tuple of None, bool, int, float and str for persistent storage but contains (1, 1) which is of type tuple.\n",
            "  warnings.warn(message)\n",
            "/usr/local/lib/python3.10/dist-packages/optuna/distributions.py:524: UserWarning: Choices for a categorical distribution should be a tuple of None, bool, int, float and str for persistent storage but contains (1, 2) which is of type tuple.\n",
            "  warnings.warn(message)\n",
            "/usr/local/lib/python3.10/dist-packages/optuna/distributions.py:524: UserWarning: Choices for a categorical distribution should be a tuple of None, bool, int, float and str for persistent storage but contains (1, 3) which is of type tuple.\n",
            "  warnings.warn(message)\n",
            "[I 2024-05-18 07:58:28,509] Trial 44 finished with value: 0.9294831184921767 and parameters: {'vectorizer': 'tfidf', 'max_features': 4264, 'ngram_range': (1, 1), 'model': 'rf', 'n_estimators': 105, 'max_depth': 8}. Best is trial 29 with value: 0.9557237972432665.\n",
            "/usr/local/lib/python3.10/dist-packages/optuna/distributions.py:524: UserWarning: Choices for a categorical distribution should be a tuple of None, bool, int, float and str for persistent storage but contains (1, 1) which is of type tuple.\n",
            "  warnings.warn(message)\n",
            "/usr/local/lib/python3.10/dist-packages/optuna/distributions.py:524: UserWarning: Choices for a categorical distribution should be a tuple of None, bool, int, float and str for persistent storage but contains (1, 2) which is of type tuple.\n",
            "  warnings.warn(message)\n",
            "/usr/local/lib/python3.10/dist-packages/optuna/distributions.py:524: UserWarning: Choices for a categorical distribution should be a tuple of None, bool, int, float and str for persistent storage but contains (1, 3) which is of type tuple.\n",
            "  warnings.warn(message)\n",
            "<ipython-input-43-a9e863e70c42>:17: FutureWarning: suggest_loguniform has been deprecated in v3.0.0. This feature will be removed in v6.0.0. See https://github.com/optuna/optuna/releases/tag/v3.0.0. Use suggest_float(..., log=True) instead.\n",
            "  alpha = trial.suggest_loguniform('alpha', 1e-5, 1e-1)\n",
            "[I 2024-05-18 07:58:52,260] Trial 45 finished with value: 0.9521960149995001 and parameters: {'vectorizer': 'count', 'max_features': 3655, 'ngram_range': (1, 1), 'model': 'sgd', 'max_iter': 262, 'alpha': 0.00017368603063107945, 'loss': 'modified_huber', 'penalty': 'elasticnet'}. Best is trial 29 with value: 0.9557237972432665.\n",
            "/usr/local/lib/python3.10/dist-packages/optuna/distributions.py:524: UserWarning: Choices for a categorical distribution should be a tuple of None, bool, int, float and str for persistent storage but contains (1, 1) which is of type tuple.\n",
            "  warnings.warn(message)\n",
            "/usr/local/lib/python3.10/dist-packages/optuna/distributions.py:524: UserWarning: Choices for a categorical distribution should be a tuple of None, bool, int, float and str for persistent storage but contains (1, 2) which is of type tuple.\n",
            "  warnings.warn(message)\n",
            "/usr/local/lib/python3.10/dist-packages/optuna/distributions.py:524: UserWarning: Choices for a categorical distribution should be a tuple of None, bool, int, float and str for persistent storage but contains (1, 3) which is of type tuple.\n",
            "  warnings.warn(message)\n",
            "<ipython-input-43-a9e863e70c42>:22: FutureWarning: suggest_loguniform has been deprecated in v3.0.0. This feature will be removed in v6.0.0. See https://github.com/optuna/optuna/releases/tag/v3.0.0. Use suggest_float(..., log=True) instead.\n",
            "  alpha = trial.suggest_loguniform('nb_alpha', 1e-3, 1e0)\n",
            "[I 2024-05-18 07:59:19,403] Trial 46 finished with value: 0.9354684294194917 and parameters: {'vectorizer': 'count', 'max_features': 2480, 'ngram_range': (1, 3), 'model': 'nb', 'nb_alpha': 0.0064372776328959465}. Best is trial 29 with value: 0.9557237972432665.\n",
            "/usr/local/lib/python3.10/dist-packages/optuna/distributions.py:524: UserWarning: Choices for a categorical distribution should be a tuple of None, bool, int, float and str for persistent storage but contains (1, 1) which is of type tuple.\n",
            "  warnings.warn(message)\n",
            "/usr/local/lib/python3.10/dist-packages/optuna/distributions.py:524: UserWarning: Choices for a categorical distribution should be a tuple of None, bool, int, float and str for persistent storage but contains (1, 2) which is of type tuple.\n",
            "  warnings.warn(message)\n",
            "/usr/local/lib/python3.10/dist-packages/optuna/distributions.py:524: UserWarning: Choices for a categorical distribution should be a tuple of None, bool, int, float and str for persistent storage but contains (1, 3) which is of type tuple.\n",
            "  warnings.warn(message)\n",
            "<ipython-input-43-a9e863e70c42>:17: FutureWarning: suggest_loguniform has been deprecated in v3.0.0. This feature will be removed in v6.0.0. See https://github.com/optuna/optuna/releases/tag/v3.0.0. Use suggest_float(..., log=True) instead.\n",
            "  alpha = trial.suggest_loguniform('alpha', 1e-5, 1e-1)\n",
            "[I 2024-05-18 07:59:43,566] Trial 47 finished with value: 0.9543364655586019 and parameters: {'vectorizer': 'tfidf', 'max_features': 4740, 'ngram_range': (1, 1), 'model': 'sgd', 'max_iter': 830, 'alpha': 0.00023993137785558832, 'loss': 'modified_huber', 'penalty': 'elasticnet'}. Best is trial 29 with value: 0.9557237972432665.\n",
            "/usr/local/lib/python3.10/dist-packages/optuna/distributions.py:524: UserWarning: Choices for a categorical distribution should be a tuple of None, bool, int, float and str for persistent storage but contains (1, 1) which is of type tuple.\n",
            "  warnings.warn(message)\n",
            "/usr/local/lib/python3.10/dist-packages/optuna/distributions.py:524: UserWarning: Choices for a categorical distribution should be a tuple of None, bool, int, float and str for persistent storage but contains (1, 2) which is of type tuple.\n",
            "  warnings.warn(message)\n",
            "/usr/local/lib/python3.10/dist-packages/optuna/distributions.py:524: UserWarning: Choices for a categorical distribution should be a tuple of None, bool, int, float and str for persistent storage but contains (1, 3) which is of type tuple.\n",
            "  warnings.warn(message)\n",
            "<ipython-input-43-a9e863e70c42>:17: FutureWarning: suggest_loguniform has been deprecated in v3.0.0. This feature will be removed in v6.0.0. See https://github.com/optuna/optuna/releases/tag/v3.0.0. Use suggest_float(..., log=True) instead.\n",
            "  alpha = trial.suggest_loguniform('alpha', 1e-5, 1e-1)\n",
            "[I 2024-05-18 08:00:07,759] Trial 48 finished with value: 0.9513239193591865 and parameters: {'vectorizer': 'count', 'max_features': 4170, 'ngram_range': (1, 1), 'model': 'sgd', 'max_iter': 322, 'alpha': 0.00102306875901403, 'loss': 'modified_huber', 'penalty': 'elasticnet'}. Best is trial 29 with value: 0.9557237972432665.\n",
            "/usr/local/lib/python3.10/dist-packages/optuna/distributions.py:524: UserWarning: Choices for a categorical distribution should be a tuple of None, bool, int, float and str for persistent storage but contains (1, 1) which is of type tuple.\n",
            "  warnings.warn(message)\n",
            "/usr/local/lib/python3.10/dist-packages/optuna/distributions.py:524: UserWarning: Choices for a categorical distribution should be a tuple of None, bool, int, float and str for persistent storage but contains (1, 2) which is of type tuple.\n",
            "  warnings.warn(message)\n",
            "/usr/local/lib/python3.10/dist-packages/optuna/distributions.py:524: UserWarning: Choices for a categorical distribution should be a tuple of None, bool, int, float and str for persistent storage but contains (1, 3) which is of type tuple.\n",
            "  warnings.warn(message)\n",
            "[I 2024-05-18 08:00:34,957] Trial 49 finished with value: 0.929364198287634 and parameters: {'vectorizer': 'count', 'max_features': 4372, 'ngram_range': (1, 2), 'model': 'rf', 'n_estimators': 98, 'max_depth': 3}. Best is trial 29 with value: 0.9557237972432665.\n"
          ]
        },
        {
          "output_type": "stream",
          "name": "stdout",
          "text": [
            "Best trial:\n",
            "  Value: 0.9557237972432665\n",
            "  Params: \n",
            "    vectorizer: count\n",
            "    max_features: 4455\n",
            "    ngram_range: (1, 1)\n",
            "    model: sgd\n",
            "    max_iter: 407\n",
            "    alpha: 0.0003707384093093721\n",
            "    loss: modified_huber\n",
            "    penalty: elasticnet\n"
          ]
        },
        {
          "output_type": "execute_result",
          "data": {
            "text/plain": [
              "Pipeline(steps=[('preprocessing', CustomTransformer()),\n",
              "                ('vectorizing', CountVectorizer(max_features=4455)),\n",
              "                ('model',\n",
              "                 SGDClassifier(alpha=0.0003707384093093721,\n",
              "                               loss='modified_huber', max_iter=407,\n",
              "                               penalty='elasticnet', random_state=42))])"
            ],
            "text/html": [
              "<style>#sk-container-id-3 {color: black;background-color: white;}#sk-container-id-3 pre{padding: 0;}#sk-container-id-3 div.sk-toggleable {background-color: white;}#sk-container-id-3 label.sk-toggleable__label {cursor: pointer;display: block;width: 100%;margin-bottom: 0;padding: 0.3em;box-sizing: border-box;text-align: center;}#sk-container-id-3 label.sk-toggleable__label-arrow:before {content: \"▸\";float: left;margin-right: 0.25em;color: #696969;}#sk-container-id-3 label.sk-toggleable__label-arrow:hover:before {color: black;}#sk-container-id-3 div.sk-estimator:hover label.sk-toggleable__label-arrow:before {color: black;}#sk-container-id-3 div.sk-toggleable__content {max-height: 0;max-width: 0;overflow: hidden;text-align: left;background-color: #f0f8ff;}#sk-container-id-3 div.sk-toggleable__content pre {margin: 0.2em;color: black;border-radius: 0.25em;background-color: #f0f8ff;}#sk-container-id-3 input.sk-toggleable__control:checked~div.sk-toggleable__content {max-height: 200px;max-width: 100%;overflow: auto;}#sk-container-id-3 input.sk-toggleable__control:checked~label.sk-toggleable__label-arrow:before {content: \"▾\";}#sk-container-id-3 div.sk-estimator input.sk-toggleable__control:checked~label.sk-toggleable__label {background-color: #d4ebff;}#sk-container-id-3 div.sk-label input.sk-toggleable__control:checked~label.sk-toggleable__label {background-color: #d4ebff;}#sk-container-id-3 input.sk-hidden--visually {border: 0;clip: rect(1px 1px 1px 1px);clip: rect(1px, 1px, 1px, 1px);height: 1px;margin: -1px;overflow: hidden;padding: 0;position: absolute;width: 1px;}#sk-container-id-3 div.sk-estimator {font-family: monospace;background-color: #f0f8ff;border: 1px dotted black;border-radius: 0.25em;box-sizing: border-box;margin-bottom: 0.5em;}#sk-container-id-3 div.sk-estimator:hover {background-color: #d4ebff;}#sk-container-id-3 div.sk-parallel-item::after {content: \"\";width: 100%;border-bottom: 1px solid gray;flex-grow: 1;}#sk-container-id-3 div.sk-label:hover label.sk-toggleable__label {background-color: #d4ebff;}#sk-container-id-3 div.sk-serial::before {content: \"\";position: absolute;border-left: 1px solid gray;box-sizing: border-box;top: 0;bottom: 0;left: 50%;z-index: 0;}#sk-container-id-3 div.sk-serial {display: flex;flex-direction: column;align-items: center;background-color: white;padding-right: 0.2em;padding-left: 0.2em;position: relative;}#sk-container-id-3 div.sk-item {position: relative;z-index: 1;}#sk-container-id-3 div.sk-parallel {display: flex;align-items: stretch;justify-content: center;background-color: white;position: relative;}#sk-container-id-3 div.sk-item::before, #sk-container-id-3 div.sk-parallel-item::before {content: \"\";position: absolute;border-left: 1px solid gray;box-sizing: border-box;top: 0;bottom: 0;left: 50%;z-index: -1;}#sk-container-id-3 div.sk-parallel-item {display: flex;flex-direction: column;z-index: 1;position: relative;background-color: white;}#sk-container-id-3 div.sk-parallel-item:first-child::after {align-self: flex-end;width: 50%;}#sk-container-id-3 div.sk-parallel-item:last-child::after {align-self: flex-start;width: 50%;}#sk-container-id-3 div.sk-parallel-item:only-child::after {width: 0;}#sk-container-id-3 div.sk-dashed-wrapped {border: 1px dashed gray;margin: 0 0.4em 0.5em 0.4em;box-sizing: border-box;padding-bottom: 0.4em;background-color: white;}#sk-container-id-3 div.sk-label label {font-family: monospace;font-weight: bold;display: inline-block;line-height: 1.2em;}#sk-container-id-3 div.sk-label-container {text-align: center;}#sk-container-id-3 div.sk-container {/* jupyter's `normalize.less` sets `[hidden] { display: none; }` but bootstrap.min.css set `[hidden] { display: none !important; }` so we also need the `!important` here to be able to override the default hidden behavior on the sphinx rendered scikit-learn.org. See: https://github.com/scikit-learn/scikit-learn/issues/21755 */display: inline-block !important;position: relative;}#sk-container-id-3 div.sk-text-repr-fallback {display: none;}</style><div id=\"sk-container-id-3\" class=\"sk-top-container\"><div class=\"sk-text-repr-fallback\"><pre>Pipeline(steps=[(&#x27;preprocessing&#x27;, CustomTransformer()),\n",
              "                (&#x27;vectorizing&#x27;, CountVectorizer(max_features=4455)),\n",
              "                (&#x27;model&#x27;,\n",
              "                 SGDClassifier(alpha=0.0003707384093093721,\n",
              "                               loss=&#x27;modified_huber&#x27;, max_iter=407,\n",
              "                               penalty=&#x27;elasticnet&#x27;, random_state=42))])</pre><b>In a Jupyter environment, please rerun this cell to show the HTML representation or trust the notebook. <br />On GitHub, the HTML representation is unable to render, please try loading this page with nbviewer.org.</b></div><div class=\"sk-container\" hidden><div class=\"sk-item sk-dashed-wrapped\"><div class=\"sk-label-container\"><div class=\"sk-label sk-toggleable\"><input class=\"sk-toggleable__control sk-hidden--visually\" id=\"sk-estimator-id-9\" type=\"checkbox\" ><label for=\"sk-estimator-id-9\" class=\"sk-toggleable__label sk-toggleable__label-arrow\">Pipeline</label><div class=\"sk-toggleable__content\"><pre>Pipeline(steps=[(&#x27;preprocessing&#x27;, CustomTransformer()),\n",
              "                (&#x27;vectorizing&#x27;, CountVectorizer(max_features=4455)),\n",
              "                (&#x27;model&#x27;,\n",
              "                 SGDClassifier(alpha=0.0003707384093093721,\n",
              "                               loss=&#x27;modified_huber&#x27;, max_iter=407,\n",
              "                               penalty=&#x27;elasticnet&#x27;, random_state=42))])</pre></div></div></div><div class=\"sk-serial\"><div class=\"sk-item\"><div class=\"sk-estimator sk-toggleable\"><input class=\"sk-toggleable__control sk-hidden--visually\" id=\"sk-estimator-id-10\" type=\"checkbox\" ><label for=\"sk-estimator-id-10\" class=\"sk-toggleable__label sk-toggleable__label-arrow\">CustomTransformer</label><div class=\"sk-toggleable__content\"><pre>CustomTransformer()</pre></div></div></div><div class=\"sk-item\"><div class=\"sk-estimator sk-toggleable\"><input class=\"sk-toggleable__control sk-hidden--visually\" id=\"sk-estimator-id-11\" type=\"checkbox\" ><label for=\"sk-estimator-id-11\" class=\"sk-toggleable__label sk-toggleable__label-arrow\">CountVectorizer</label><div class=\"sk-toggleable__content\"><pre>CountVectorizer(max_features=4455)</pre></div></div></div><div class=\"sk-item\"><div class=\"sk-estimator sk-toggleable\"><input class=\"sk-toggleable__control sk-hidden--visually\" id=\"sk-estimator-id-12\" type=\"checkbox\" ><label for=\"sk-estimator-id-12\" class=\"sk-toggleable__label sk-toggleable__label-arrow\">SGDClassifier</label><div class=\"sk-toggleable__content\"><pre>SGDClassifier(alpha=0.0003707384093093721, loss=&#x27;modified_huber&#x27;, max_iter=407,\n",
              "              penalty=&#x27;elasticnet&#x27;, random_state=42)</pre></div></div></div></div></div></div></div>"
            ]
          },
          "metadata": {},
          "execution_count": 43
        }
      ],
      "source": [
        "# Train the final pipeline with the best hyperparameters on the full training data\n",
        "best_params = study.best_params\n",
        "\n",
        "# Configure the best vectorizer and model based on the best parameters found by Optuna\n",
        "if best_params['vectorizer'] == 'count':\n",
        "    best_vectorizer = CountVectorizer(ngram_range=best_params['ngram_range'])\n",
        "else:\n",
        "    best_vectorizer = TfidfVectorizer(ngram_range=best_params['ngram_range'])\n",
        "\n",
        "if best_params['model'] == 'sgd':\n",
        "    best_model = SGDClassifier(max_iter=best_params['max_iter'], alpha=best_params['alpha'],\n",
        "                               loss=best_params['loss'], penalty=best_params['penalty'], random_state=42)\n",
        "elif best_params['model'] == 'nb':\n",
        "    best_model = MultinomialNB(alpha=best_params['nb_alpha'])\n",
        "\n",
        "# Create the final pipeline with the best hyperparameters\n",
        "pipeline = Pipeline(steps=[\n",
        "    ('preprocessing', CustomTransformer()),\n",
        "    ('vectorizing', best_vectorizer),\n",
        "    ('model', best_model)\n",
        "])\n",
        "\n",
        "# Fit the pipeline on the training data\n",
        "pipeline.fit(X_train, y_train)\n",
        "\n",
        "# Predict the labels on the test data\n",
        "y_pred = pipeline.predict(X_test)\n",
        "\n",
        "# Calculate the F1 micro score\n",
        "f1_micro = f1_score(y_test, y_pred, average='micro')\n",
        "\n",
        "# Print the F1 micro score\n",
        "print(f\"F1 micro score: {f1_micro}\")\n"
      ]
    },
    {
      "cell_type": "code",
      "source": [
        "# Print the best model\n",
        "print(\"Best model:\")\n",
        "print(best_model)\n"
      ],
      "metadata": {
        "colab": {
          "base_uri": "https://localhost:8080/"
        },
        "id": "pzAANPpgw_Jp",
        "outputId": "7ebf3909-3f45-42b0-a634-6183c90eba30"
      },
      "execution_count": null,
      "outputs": [
        {
          "output_type": "stream",
          "name": "stdout",
          "text": [
            "Best model:\n",
            "SGDClassifier(alpha=0.0003707384093093721, loss='modified_huber', max_iter=407,\n",
            "              penalty='elasticnet', random_state=42)\n"
          ]
        }
      ]
    },
    {
      "cell_type": "code",
      "execution_count": null,
      "metadata": {
        "id": "ZDsCjdqsorxi",
        "colab": {
          "base_uri": "https://localhost:8080/",
          "height": 764
        },
        "outputId": "cc2664da-bc3f-466b-dbc0-aa7d70fc3592"
      },
      "outputs": [
        {
          "output_type": "stream",
          "name": "stdout",
          "text": [
            "Best trial:\n",
            "  Value: 0.9557237972432665\n",
            "  Params: \n",
            "    vectorizer: count\n",
            "    max_features: 4455\n",
            "    ngram_range: (1, 1)\n",
            "    model: sgd\n",
            "    max_iter: 407\n",
            "    alpha: 0.0003707384093093721\n",
            "    loss: modified_huber\n",
            "    penalty: elasticnet\n"
          ]
        },
        {
          "output_type": "display_data",
          "data": {
            "text/plain": [
              "<Figure size 1000x600 with 1 Axes>"
            ],
            "image/png": "[encoded data removed]"
          },
          "metadata": {}
        }
      ],
      "source": [
        "# Output the best trial\n",
        "print(\"Best trial:\")\n",
        "trial = study.best_trial\n",
        "print(f\"  Value: {trial.value}\")\n",
        "print(\"  Params: \")\n",
        "for key, value in trial.params.items():\n",
        "    print(f\"    {key}: {value}\")\n",
        "\n",
        "# Visualize the output\n",
        "import matplotlib.pyplot as plt\n",
        "\n",
        "# Get all the trials and their scores\n",
        "trials = study.trials\n",
        "scores = [trial.value for trial in trials]\n",
        "\n",
        "# Plot the scores\n",
        "plt.figure(figsize=(10, 6))\n",
        "plt.plot(scores, marker='o', linestyle='-')\n",
        "plt.xlabel('Trial')\n",
        "plt.ylabel('Accuracy')\n",
        "plt.title('Optuna Study')\n",
        "plt.grid(True)\n",
        "plt.show()\n"
      ]
    },
    {
      "cell_type": "markdown",
      "metadata": {
        "id": "B-Y5OxyZhKZH"
      },
      "source": [
        "### Conclusion and final results\n"
      ]
    },
    {
      "cell_type": "code",
      "execution_count": null,
      "metadata": {
        "colab": {
          "base_uri": "https://localhost:8080/"
        },
        "id": "NMH2rnkchKZI",
        "outputId": "9e9b7835-3592-45b6-f46d-427ab901e9ea"
      },
      "outputs": [
        {
          "output_type": "stream",
          "name": "stdout",
          "text": [
            "F1 score (micro averaging): 0.9575075313144126\n"
          ]
        }
      ],
      "source": [
        "from sklearn.metrics import f1_score\n",
        "\n",
        "# Predict the labels on the test set\n",
        "y_pred = pipeline.predict(X_test)\n",
        "\n",
        "# Calculate the F1 score using micro averaging\n",
        "f1_micro = f1_score(y_test, y_pred, average='micro')\n",
        "\n",
        "# Print the F1 score\n",
        "print(f\"F1 score (micro averaging): {f1_micro}\")\n"
      ]
    },
    {
      "cell_type": "markdown",
      "metadata": {
        "id": "Nw1GVnYLorxi"
      },
      "source": [
        "#### Done!"
      ]
    }
  ],
  "metadata": {
    "colab": {
      "provenance": []
    },
    "kernelspec": {
      "display_name": "Python 3 (ipykernel)",
      "language": "python",
      "name": "python3"
    },
    "language_info": {
      "codemirror_mode": {
        "name": "ipython",
        "version": 3
      },
      "file_extension": ".py",
      "mimetype": "text/x-python",
      "name": "python",
      "nbconvert_exporter": "python",
      "pygments_lexer": "ipython3",
      "version": "3.11.4"
    }
  },
  "nbformat": 4,
  "nbformat_minor": 0
}